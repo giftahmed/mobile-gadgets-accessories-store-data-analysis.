{
  "cells": [
    {
      "cell_type": "markdown",
      "id": "6acfbb3d",
      "metadata": {
        "papermill": {
          "duration": 0.039877,
          "end_time": "2021-11-18T07:23:30.245173",
          "exception": false,
          "start_time": "2021-11-18T07:23:30.205296",
          "status": "completed"
        },
        "tags": [],
        "id": "6acfbb3d"
      },
      "source": [
        "# This project is an analysis of a mobile gadgets and accessories store.\n",
        "\n",
        "\n",
        "\n",
        "The activities are going to work on are as follows;\n",
        "\n",
        "1. Data cleaning\n",
        "2. Data sorting\n",
        "3. Find best selling product.\n",
        "4. Find city with best sales performance.\n",
        "5. Find the peak time for orders.\n",
        "6. Find products that were bought together most as a pair of 2 and 3.\n",
        "\n",
        "Let's start the project."
      ]
    },
    {
      "cell_type": "code",
      "source": [
        "from google.colab import drive\n",
        "drive.mount('/content/drive')"
      ],
      "metadata": {
        "colab": {
          "base_uri": "https://localhost:8080/"
        },
        "id": "rZmoucs1G2V_",
        "outputId": "98544655-4be9-4e96-f5fd-01278069dbfd"
      },
      "id": "rZmoucs1G2V_",
      "execution_count": 2,
      "outputs": [
        {
          "output_type": "stream",
          "name": "stdout",
          "text": [
            "Mounted at /content/drive\n"
          ]
        }
      ]
    },
    {
      "cell_type": "code",
      "execution_count": 3,
      "id": "d05bf995",
      "metadata": {
        "execution": {
          "iopub.execute_input": "2021-11-18T07:23:30.328496Z",
          "iopub.status.busy": "2021-11-18T07:23:30.327236Z",
          "iopub.status.idle": "2021-11-18T07:23:31.269977Z",
          "shell.execute_reply": "2021-11-18T07:23:31.269100Z",
          "shell.execute_reply.started": "2021-11-18T06:15:21.828626Z"
        },
        "papermill": {
          "duration": 0.985153,
          "end_time": "2021-11-18T07:23:31.270143",
          "exception": false,
          "start_time": "2021-11-18T07:23:30.284990",
          "status": "completed"
        },
        "tags": [],
        "id": "d05bf995"
      },
      "outputs": [],
      "source": [
        "# import relevant python modules for the analysis\n",
        "\n",
        "import pandas as pd\n",
        "import numpy as np\n",
        "import seaborn as sns\n",
        "import matplotlib.pyplot as plt\n",
        "import os\n",
        "from itertools import combinations\n",
        "from collections import Counter\n",
        "import warnings\n",
        "warnings.filterwarnings(\"ignore\")\n",
        "import pandas.util.testing as tm"
      ]
    },
    {
      "cell_type": "code",
      "execution_count": 4,
      "id": "711e4690",
      "metadata": {
        "execution": {
          "iopub.execute_input": "2021-11-18T07:23:31.352030Z",
          "iopub.status.busy": "2021-11-18T07:23:31.351278Z",
          "iopub.status.idle": "2021-11-18T07:23:31.998789Z",
          "shell.execute_reply": "2021-11-18T07:23:31.999516Z",
          "shell.execute_reply.started": "2021-11-18T06:15:21.846235Z"
        },
        "papermill": {
          "duration": 0.690455,
          "end_time": "2021-11-18T07:23:31.999700",
          "exception": false,
          "start_time": "2021-11-18T07:23:31.309245",
          "status": "completed"
        },
        "tags": [],
        "colab": {
          "base_uri": "https://localhost:8080/"
        },
        "id": "711e4690",
        "outputId": "028fd63f-5d77-4b2a-d7f8-4dd37f71a5b0"
      },
      "outputs": [
        {
          "output_type": "stream",
          "name": "stdout",
          "text": [
            "  Order ID                     Product Quantity Ordered Price Each  \\\n",
            "0   176558        USB-C Charging Cable                2      11.95   \n",
            "1   176559  Bose SoundSport Headphones                1      99.99   \n",
            "\n",
            "       Order Date                   Purchase Address  \n",
            "0  4/19/2019 8:46       917 1st St, Dallas, TX 75001  \n",
            "1  4/7/2019 22:30  682 Chestnut St, Boston, MA 02215  \n"
          ]
        }
      ],
      "source": [
        "#merge 12 months data into 1 data file for analysis and read into jupyter notebooks\n",
        "\n",
        "file = './drive/My Drive/MLstart/mobile/All Sales Data.csv'\n",
        "df = pd.read_csv(file)\n",
        "print(df.head(2))"
      ]
    },
    {
      "cell_type": "markdown",
      "id": "1d8b155c",
      "metadata": {
        "papermill": {
          "duration": 0.03745,
          "end_time": "2021-11-18T07:23:32.075930",
          "exception": false,
          "start_time": "2021-11-18T07:23:32.038480",
          "status": "completed"
        },
        "tags": [],
        "id": "1d8b155c"
      },
      "source": [
        "#### Now let's perform some simple exploratory data analysis to further understand the data"
      ]
    },
    {
      "cell_type": "code",
      "execution_count": 5,
      "id": "7b237189",
      "metadata": {
        "execution": {
          "iopub.execute_input": "2021-11-18T07:23:32.154489Z",
          "iopub.status.busy": "2021-11-18T07:23:32.153806Z",
          "iopub.status.idle": "2021-11-18T07:23:32.168168Z",
          "shell.execute_reply": "2021-11-18T07:23:32.168702Z",
          "shell.execute_reply.started": "2021-11-18T06:15:22.2972Z"
        },
        "papermill": {
          "duration": 0.055108,
          "end_time": "2021-11-18T07:23:32.168883",
          "exception": false,
          "start_time": "2021-11-18T07:23:32.113775",
          "status": "completed"
        },
        "tags": [],
        "colab": {
          "base_uri": "https://localhost:8080/",
          "height": 144
        },
        "id": "7b237189",
        "outputId": "dbc30c74-fedf-4008-b438-9c8a77720929"
      },
      "outputs": [
        {
          "output_type": "execute_result",
          "data": {
            "text/plain": [
              "  Order ID                     Product Quantity Ordered Price Each  \\\n",
              "0   176558        USB-C Charging Cable                2      11.95   \n",
              "1   176559  Bose SoundSport Headphones                1      99.99   \n",
              "2   176560                Google Phone                1        600   \n",
              "\n",
              "        Order Date                      Purchase Address  \n",
              "0   4/19/2019 8:46          917 1st St, Dallas, TX 75001  \n",
              "1   4/7/2019 22:30     682 Chestnut St, Boston, MA 02215  \n",
              "2  4/12/2019 14:38  669 Spruce St, Los Angeles, CA 90001  "
            ],
            "text/html": [
              "\n",
              "  <div id=\"df-445e2257-f77b-4c40-af26-259931510cd3\">\n",
              "    <div class=\"colab-df-container\">\n",
              "      <div>\n",
              "<style scoped>\n",
              "    .dataframe tbody tr th:only-of-type {\n",
              "        vertical-align: middle;\n",
              "    }\n",
              "\n",
              "    .dataframe tbody tr th {\n",
              "        vertical-align: top;\n",
              "    }\n",
              "\n",
              "    .dataframe thead th {\n",
              "        text-align: right;\n",
              "    }\n",
              "</style>\n",
              "<table border=\"1\" class=\"dataframe\">\n",
              "  <thead>\n",
              "    <tr style=\"text-align: right;\">\n",
              "      <th></th>\n",
              "      <th>Order ID</th>\n",
              "      <th>Product</th>\n",
              "      <th>Quantity Ordered</th>\n",
              "      <th>Price Each</th>\n",
              "      <th>Order Date</th>\n",
              "      <th>Purchase Address</th>\n",
              "    </tr>\n",
              "  </thead>\n",
              "  <tbody>\n",
              "    <tr>\n",
              "      <th>0</th>\n",
              "      <td>176558</td>\n",
              "      <td>USB-C Charging Cable</td>\n",
              "      <td>2</td>\n",
              "      <td>11.95</td>\n",
              "      <td>4/19/2019 8:46</td>\n",
              "      <td>917 1st St, Dallas, TX 75001</td>\n",
              "    </tr>\n",
              "    <tr>\n",
              "      <th>1</th>\n",
              "      <td>176559</td>\n",
              "      <td>Bose SoundSport Headphones</td>\n",
              "      <td>1</td>\n",
              "      <td>99.99</td>\n",
              "      <td>4/7/2019 22:30</td>\n",
              "      <td>682 Chestnut St, Boston, MA 02215</td>\n",
              "    </tr>\n",
              "    <tr>\n",
              "      <th>2</th>\n",
              "      <td>176560</td>\n",
              "      <td>Google Phone</td>\n",
              "      <td>1</td>\n",
              "      <td>600</td>\n",
              "      <td>4/12/2019 14:38</td>\n",
              "      <td>669 Spruce St, Los Angeles, CA 90001</td>\n",
              "    </tr>\n",
              "  </tbody>\n",
              "</table>\n",
              "</div>\n",
              "      <button class=\"colab-df-convert\" onclick=\"convertToInteractive('df-445e2257-f77b-4c40-af26-259931510cd3')\"\n",
              "              title=\"Convert this dataframe to an interactive table.\"\n",
              "              style=\"display:none;\">\n",
              "        \n",
              "  <svg xmlns=\"http://www.w3.org/2000/svg\" height=\"24px\"viewBox=\"0 0 24 24\"\n",
              "       width=\"24px\">\n",
              "    <path d=\"M0 0h24v24H0V0z\" fill=\"none\"/>\n",
              "    <path d=\"M18.56 5.44l.94 2.06.94-2.06 2.06-.94-2.06-.94-.94-2.06-.94 2.06-2.06.94zm-11 1L8.5 8.5l.94-2.06 2.06-.94-2.06-.94L8.5 2.5l-.94 2.06-2.06.94zm10 10l.94 2.06.94-2.06 2.06-.94-2.06-.94-.94-2.06-.94 2.06-2.06.94z\"/><path d=\"M17.41 7.96l-1.37-1.37c-.4-.4-.92-.59-1.43-.59-.52 0-1.04.2-1.43.59L10.3 9.45l-7.72 7.72c-.78.78-.78 2.05 0 2.83L4 21.41c.39.39.9.59 1.41.59.51 0 1.02-.2 1.41-.59l7.78-7.78 2.81-2.81c.8-.78.8-2.07 0-2.86zM5.41 20L4 18.59l7.72-7.72 1.47 1.35L5.41 20z\"/>\n",
              "  </svg>\n",
              "      </button>\n",
              "      \n",
              "  <style>\n",
              "    .colab-df-container {\n",
              "      display:flex;\n",
              "      flex-wrap:wrap;\n",
              "      gap: 12px;\n",
              "    }\n",
              "\n",
              "    .colab-df-convert {\n",
              "      background-color: #E8F0FE;\n",
              "      border: none;\n",
              "      border-radius: 50%;\n",
              "      cursor: pointer;\n",
              "      display: none;\n",
              "      fill: #1967D2;\n",
              "      height: 32px;\n",
              "      padding: 0 0 0 0;\n",
              "      width: 32px;\n",
              "    }\n",
              "\n",
              "    .colab-df-convert:hover {\n",
              "      background-color: #E2EBFA;\n",
              "      box-shadow: 0px 1px 2px rgba(60, 64, 67, 0.3), 0px 1px 3px 1px rgba(60, 64, 67, 0.15);\n",
              "      fill: #174EA6;\n",
              "    }\n",
              "\n",
              "    [theme=dark] .colab-df-convert {\n",
              "      background-color: #3B4455;\n",
              "      fill: #D2E3FC;\n",
              "    }\n",
              "\n",
              "    [theme=dark] .colab-df-convert:hover {\n",
              "      background-color: #434B5C;\n",
              "      box-shadow: 0px 1px 3px 1px rgba(0, 0, 0, 0.15);\n",
              "      filter: drop-shadow(0px 1px 2px rgba(0, 0, 0, 0.3));\n",
              "      fill: #FFFFFF;\n",
              "    }\n",
              "  </style>\n",
              "\n",
              "      <script>\n",
              "        const buttonEl =\n",
              "          document.querySelector('#df-445e2257-f77b-4c40-af26-259931510cd3 button.colab-df-convert');\n",
              "        buttonEl.style.display =\n",
              "          google.colab.kernel.accessAllowed ? 'block' : 'none';\n",
              "\n",
              "        async function convertToInteractive(key) {\n",
              "          const element = document.querySelector('#df-445e2257-f77b-4c40-af26-259931510cd3');\n",
              "          const dataTable =\n",
              "            await google.colab.kernel.invokeFunction('convertToInteractive',\n",
              "                                                     [key], {});\n",
              "          if (!dataTable) return;\n",
              "\n",
              "          const docLinkHtml = 'Like what you see? Visit the ' +\n",
              "            '<a target=\"_blank\" href=https://colab.research.google.com/notebooks/data_table.ipynb>data table notebook</a>'\n",
              "            + ' to learn more about interactive tables.';\n",
              "          element.innerHTML = '';\n",
              "          dataTable['output_type'] = 'display_data';\n",
              "          await google.colab.output.renderOutput(dataTable, element);\n",
              "          const docLink = document.createElement('div');\n",
              "          docLink.innerHTML = docLinkHtml;\n",
              "          element.appendChild(docLink);\n",
              "        }\n",
              "      </script>\n",
              "    </div>\n",
              "  </div>\n",
              "  "
            ]
          },
          "metadata": {},
          "execution_count": 5
        }
      ],
      "source": [
        "# data preview\n",
        "\n",
        "df.head(3)"
      ]
    },
    {
      "cell_type": "code",
      "execution_count": 6,
      "id": "312f039d",
      "metadata": {
        "execution": {
          "iopub.execute_input": "2021-11-18T07:23:32.249692Z",
          "iopub.status.busy": "2021-11-18T07:23:32.248976Z",
          "iopub.status.idle": "2021-11-18T07:23:32.253316Z",
          "shell.execute_reply": "2021-11-18T07:23:32.253817Z",
          "shell.execute_reply.started": "2021-11-18T06:15:22.312233Z"
        },
        "papermill": {
          "duration": 0.046609,
          "end_time": "2021-11-18T07:23:32.254026",
          "exception": false,
          "start_time": "2021-11-18T07:23:32.207417",
          "status": "completed"
        },
        "tags": [],
        "colab": {
          "base_uri": "https://localhost:8080/"
        },
        "id": "312f039d",
        "outputId": "b7cd1d06-ce53-47f4-bc0f-3587bd8cd44f"
      },
      "outputs": [
        {
          "output_type": "execute_result",
          "data": {
            "text/plain": [
              "(185687, 6)"
            ]
          },
          "metadata": {},
          "execution_count": 6
        }
      ],
      "source": [
        "# check the shape of the data\n",
        "\n",
        "df.shape"
      ]
    },
    {
      "cell_type": "code",
      "execution_count": 7,
      "id": "a4b0873d",
      "metadata": {
        "execution": {
          "iopub.execute_input": "2021-11-18T07:23:32.335074Z",
          "iopub.status.busy": "2021-11-18T07:23:32.334407Z",
          "iopub.status.idle": "2021-11-18T07:23:32.341788Z",
          "shell.execute_reply": "2021-11-18T07:23:32.341178Z",
          "shell.execute_reply.started": "2021-11-18T06:15:22.323465Z"
        },
        "papermill": {
          "duration": 0.049277,
          "end_time": "2021-11-18T07:23:32.341940",
          "exception": false,
          "start_time": "2021-11-18T07:23:32.292663",
          "status": "completed"
        },
        "tags": [],
        "colab": {
          "base_uri": "https://localhost:8080/"
        },
        "id": "a4b0873d",
        "outputId": "5d7fa404-8833-43b1-9cb7-5ac214ae8c52"
      },
      "outputs": [
        {
          "output_type": "execute_result",
          "data": {
            "text/plain": [
              "Order ID            object\n",
              "Product             object\n",
              "Quantity Ordered    object\n",
              "Price Each          object\n",
              "Order Date          object\n",
              "Purchase Address    object\n",
              "dtype: object"
            ]
          },
          "metadata": {},
          "execution_count": 7
        }
      ],
      "source": [
        "# data types\n",
        "\n",
        "df.dtypes"
      ]
    },
    {
      "cell_type": "code",
      "execution_count": 8,
      "id": "9a406cb8",
      "metadata": {
        "execution": {
          "iopub.execute_input": "2021-11-18T07:23:32.543774Z",
          "iopub.status.busy": "2021-11-18T07:23:32.543062Z",
          "iopub.status.idle": "2021-11-18T07:23:32.547264Z",
          "shell.execute_reply": "2021-11-18T07:23:32.547749Z",
          "shell.execute_reply.started": "2021-11-18T06:15:22.337249Z"
        },
        "papermill": {
          "duration": 0.166447,
          "end_time": "2021-11-18T07:23:32.547926",
          "exception": false,
          "start_time": "2021-11-18T07:23:32.381479",
          "status": "completed"
        },
        "tags": [],
        "colab": {
          "base_uri": "https://localhost:8080/"
        },
        "id": "9a406cb8",
        "outputId": "ac7514d2-3774-4131-da63-7e3931ceb50f"
      },
      "outputs": [
        {
          "output_type": "execute_result",
          "data": {
            "text/plain": [
              "False"
            ]
          },
          "metadata": {},
          "execution_count": 8
        }
      ],
      "source": [
        "# do we have missing values?\n",
        "\n",
        "df.isna().values.any()"
      ]
    },
    {
      "cell_type": "code",
      "execution_count": 9,
      "id": "08e62cd7",
      "metadata": {
        "execution": {
          "iopub.execute_input": "2021-11-18T07:23:32.629923Z",
          "iopub.status.busy": "2021-11-18T07:23:32.629223Z",
          "iopub.status.idle": "2021-11-18T07:23:32.892408Z",
          "shell.execute_reply": "2021-11-18T07:23:32.892860Z",
          "shell.execute_reply.started": "2021-11-18T06:15:22.467442Z"
        },
        "papermill": {
          "duration": 0.30593,
          "end_time": "2021-11-18T07:23:32.893031",
          "exception": false,
          "start_time": "2021-11-18T07:23:32.587101",
          "status": "completed"
        },
        "tags": [],
        "colab": {
          "base_uri": "https://localhost:8080/"
        },
        "id": "08e62cd7",
        "outputId": "8645b221-6d62-4b95-ed38-7286740119c6"
      },
      "outputs": [
        {
          "output_type": "execute_result",
          "data": {
            "text/plain": [
              "False"
            ]
          },
          "metadata": {},
          "execution_count": 9
        }
      ],
      "source": [
        "# do we have duplicates?\n",
        "\n",
        "df.duplicated().values.any()"
      ]
    },
    {
      "cell_type": "markdown",
      "id": "94cecb15",
      "metadata": {
        "papermill": {
          "duration": 0.039606,
          "end_time": "2021-11-18T07:23:33.032955",
          "exception": false,
          "start_time": "2021-11-18T07:23:32.993349",
          "status": "completed"
        },
        "tags": [],
        "id": "94cecb15"
      },
      "source": [
        "#### Now we have to clean up the data to remove NAN values & duplicates and convert data types"
      ]
    },
    {
      "cell_type": "code",
      "execution_count": 10,
      "id": "e7449fae",
      "metadata": {
        "execution": {
          "iopub.execute_input": "2021-11-18T07:23:33.236004Z",
          "iopub.status.busy": "2021-11-18T07:23:33.115115Z",
          "iopub.status.idle": "2021-11-18T07:23:33.262242Z",
          "shell.execute_reply": "2021-11-18T07:23:33.261381Z",
          "shell.execute_reply.started": "2021-11-18T06:15:22.703411Z"
        },
        "papermill": {
          "duration": 0.18989,
          "end_time": "2021-11-18T07:23:33.262415",
          "exception": false,
          "start_time": "2021-11-18T07:23:33.072525",
          "status": "completed"
        },
        "tags": [],
        "id": "e7449fae"
      },
      "outputs": [],
      "source": [
        "# drop missing values\n",
        "\n",
        "df.dropna(how='all', inplace= True)"
      ]
    },
    {
      "cell_type": "code",
      "execution_count": 11,
      "id": "4f1582c4",
      "metadata": {
        "execution": {
          "iopub.execute_input": "2021-11-18T07:23:33.349852Z",
          "iopub.status.busy": "2021-11-18T07:23:33.349024Z",
          "iopub.status.idle": "2021-11-18T07:23:33.614495Z",
          "shell.execute_reply": "2021-11-18T07:23:33.614986Z",
          "shell.execute_reply.started": "2021-11-18T06:15:22.843989Z"
        },
        "papermill": {
          "duration": 0.312378,
          "end_time": "2021-11-18T07:23:33.615181",
          "exception": false,
          "start_time": "2021-11-18T07:23:33.302803",
          "status": "completed"
        },
        "tags": [],
        "id": "4f1582c4"
      },
      "outputs": [],
      "source": [
        "# drop all duplicates\n",
        "\n",
        "df = df.drop_duplicates()"
      ]
    },
    {
      "cell_type": "code",
      "execution_count": 12,
      "id": "a1fc54cc",
      "metadata": {
        "execution": {
          "iopub.execute_input": "2021-11-18T07:23:33.697890Z",
          "iopub.status.busy": "2021-11-18T07:23:33.696855Z",
          "iopub.status.idle": "2021-11-18T07:23:33.821534Z",
          "shell.execute_reply": "2021-11-18T07:23:33.820923Z",
          "shell.execute_reply.started": "2021-11-18T06:15:23.092858Z"
        },
        "papermill": {
          "duration": 0.167142,
          "end_time": "2021-11-18T07:23:33.821698",
          "exception": false,
          "start_time": "2021-11-18T07:23:33.654556",
          "status": "completed"
        },
        "tags": [],
        "colab": {
          "base_uri": "https://localhost:8080/"
        },
        "id": "a1fc54cc",
        "outputId": "f559a92d-3116-436a-a9ba-50ea56493b74"
      },
      "outputs": [
        {
          "output_type": "execute_result",
          "data": {
            "text/plain": [
              "False"
            ]
          },
          "metadata": {},
          "execution_count": 12
        }
      ],
      "source": [
        "# check\n",
        "\n",
        "df.isna().values.any()"
      ]
    },
    {
      "cell_type": "code",
      "execution_count": 13,
      "id": "4d444add",
      "metadata": {
        "execution": {
          "iopub.execute_input": "2021-11-18T07:23:33.966664Z",
          "iopub.status.busy": "2021-11-18T07:23:33.914448Z",
          "iopub.status.idle": "2021-11-18T07:23:34.157009Z",
          "shell.execute_reply": "2021-11-18T07:23:34.156473Z",
          "shell.execute_reply.started": "2021-11-18T06:15:23.220336Z"
        },
        "papermill": {
          "duration": 0.294776,
          "end_time": "2021-11-18T07:23:34.157170",
          "exception": false,
          "start_time": "2021-11-18T07:23:33.862394",
          "status": "completed"
        },
        "tags": [],
        "colab": {
          "base_uri": "https://localhost:8080/"
        },
        "id": "4d444add",
        "outputId": "cb0186af-9658-42ef-c3ab-7dd1b76e03c8"
      },
      "outputs": [
        {
          "output_type": "execute_result",
          "data": {
            "text/plain": [
              "False"
            ]
          },
          "metadata": {},
          "execution_count": 13
        }
      ],
      "source": [
        "# check\n",
        "\n",
        "df.duplicated().values.any()"
      ]
    },
    {
      "cell_type": "code",
      "execution_count": 14,
      "id": "8e4186ef",
      "metadata": {
        "execution": {
          "iopub.execute_input": "2021-11-18T07:23:34.243910Z",
          "iopub.status.busy": "2021-11-18T07:23:34.242958Z",
          "iopub.status.idle": "2021-11-18T07:23:34.246315Z",
          "shell.execute_reply": "2021-11-18T07:23:34.246860Z",
          "shell.execute_reply.started": "2021-11-18T06:15:23.446597Z"
        },
        "papermill": {
          "duration": 0.049644,
          "end_time": "2021-11-18T07:23:34.247035",
          "exception": false,
          "start_time": "2021-11-18T07:23:34.197391",
          "status": "completed"
        },
        "tags": [],
        "colab": {
          "base_uri": "https://localhost:8080/"
        },
        "id": "8e4186ef",
        "outputId": "f1b52963-76a6-4a6a-98ac-001ce6d078f6"
      },
      "outputs": [
        {
          "output_type": "execute_result",
          "data": {
            "text/plain": [
              "(185687, 6)"
            ]
          },
          "metadata": {},
          "execution_count": 14
        }
      ],
      "source": [
        "df.shape"
      ]
    },
    {
      "cell_type": "code",
      "execution_count": 15,
      "id": "0a8ee084",
      "metadata": {
        "execution": {
          "iopub.execute_input": "2021-11-18T07:23:34.332757Z",
          "iopub.status.busy": "2021-11-18T07:23:34.331690Z",
          "iopub.status.idle": "2021-11-18T07:23:34.343615Z",
          "shell.execute_reply": "2021-11-18T07:23:34.344178Z",
          "shell.execute_reply.started": "2021-11-18T06:15:23.453817Z"
        },
        "papermill": {
          "duration": 0.057,
          "end_time": "2021-11-18T07:23:34.344366",
          "exception": false,
          "start_time": "2021-11-18T07:23:34.287366",
          "status": "completed"
        },
        "tags": [],
        "colab": {
          "base_uri": "https://localhost:8080/",
          "height": 144
        },
        "id": "0a8ee084",
        "outputId": "4131c09a-4d76-474a-a80b-b6d4de0895ae"
      },
      "outputs": [
        {
          "output_type": "execute_result",
          "data": {
            "text/plain": [
              "  Order ID                     Product Quantity Ordered Price Each  \\\n",
              "0   176558        USB-C Charging Cable                2      11.95   \n",
              "1   176559  Bose SoundSport Headphones                1      99.99   \n",
              "2   176560                Google Phone                1        600   \n",
              "\n",
              "        Order Date                      Purchase Address  \n",
              "0   4/19/2019 8:46          917 1st St, Dallas, TX 75001  \n",
              "1   4/7/2019 22:30     682 Chestnut St, Boston, MA 02215  \n",
              "2  4/12/2019 14:38  669 Spruce St, Los Angeles, CA 90001  "
            ],
            "text/html": [
              "\n",
              "  <div id=\"df-b054203c-9dd6-4726-a677-7c1ebd1f2409\">\n",
              "    <div class=\"colab-df-container\">\n",
              "      <div>\n",
              "<style scoped>\n",
              "    .dataframe tbody tr th:only-of-type {\n",
              "        vertical-align: middle;\n",
              "    }\n",
              "\n",
              "    .dataframe tbody tr th {\n",
              "        vertical-align: top;\n",
              "    }\n",
              "\n",
              "    .dataframe thead th {\n",
              "        text-align: right;\n",
              "    }\n",
              "</style>\n",
              "<table border=\"1\" class=\"dataframe\">\n",
              "  <thead>\n",
              "    <tr style=\"text-align: right;\">\n",
              "      <th></th>\n",
              "      <th>Order ID</th>\n",
              "      <th>Product</th>\n",
              "      <th>Quantity Ordered</th>\n",
              "      <th>Price Each</th>\n",
              "      <th>Order Date</th>\n",
              "      <th>Purchase Address</th>\n",
              "    </tr>\n",
              "  </thead>\n",
              "  <tbody>\n",
              "    <tr>\n",
              "      <th>0</th>\n",
              "      <td>176558</td>\n",
              "      <td>USB-C Charging Cable</td>\n",
              "      <td>2</td>\n",
              "      <td>11.95</td>\n",
              "      <td>4/19/2019 8:46</td>\n",
              "      <td>917 1st St, Dallas, TX 75001</td>\n",
              "    </tr>\n",
              "    <tr>\n",
              "      <th>1</th>\n",
              "      <td>176559</td>\n",
              "      <td>Bose SoundSport Headphones</td>\n",
              "      <td>1</td>\n",
              "      <td>99.99</td>\n",
              "      <td>4/7/2019 22:30</td>\n",
              "      <td>682 Chestnut St, Boston, MA 02215</td>\n",
              "    </tr>\n",
              "    <tr>\n",
              "      <th>2</th>\n",
              "      <td>176560</td>\n",
              "      <td>Google Phone</td>\n",
              "      <td>1</td>\n",
              "      <td>600</td>\n",
              "      <td>4/12/2019 14:38</td>\n",
              "      <td>669 Spruce St, Los Angeles, CA 90001</td>\n",
              "    </tr>\n",
              "  </tbody>\n",
              "</table>\n",
              "</div>\n",
              "      <button class=\"colab-df-convert\" onclick=\"convertToInteractive('df-b054203c-9dd6-4726-a677-7c1ebd1f2409')\"\n",
              "              title=\"Convert this dataframe to an interactive table.\"\n",
              "              style=\"display:none;\">\n",
              "        \n",
              "  <svg xmlns=\"http://www.w3.org/2000/svg\" height=\"24px\"viewBox=\"0 0 24 24\"\n",
              "       width=\"24px\">\n",
              "    <path d=\"M0 0h24v24H0V0z\" fill=\"none\"/>\n",
              "    <path d=\"M18.56 5.44l.94 2.06.94-2.06 2.06-.94-2.06-.94-.94-2.06-.94 2.06-2.06.94zm-11 1L8.5 8.5l.94-2.06 2.06-.94-2.06-.94L8.5 2.5l-.94 2.06-2.06.94zm10 10l.94 2.06.94-2.06 2.06-.94-2.06-.94-.94-2.06-.94 2.06-2.06.94z\"/><path d=\"M17.41 7.96l-1.37-1.37c-.4-.4-.92-.59-1.43-.59-.52 0-1.04.2-1.43.59L10.3 9.45l-7.72 7.72c-.78.78-.78 2.05 0 2.83L4 21.41c.39.39.9.59 1.41.59.51 0 1.02-.2 1.41-.59l7.78-7.78 2.81-2.81c.8-.78.8-2.07 0-2.86zM5.41 20L4 18.59l7.72-7.72 1.47 1.35L5.41 20z\"/>\n",
              "  </svg>\n",
              "      </button>\n",
              "      \n",
              "  <style>\n",
              "    .colab-df-container {\n",
              "      display:flex;\n",
              "      flex-wrap:wrap;\n",
              "      gap: 12px;\n",
              "    }\n",
              "\n",
              "    .colab-df-convert {\n",
              "      background-color: #E8F0FE;\n",
              "      border: none;\n",
              "      border-radius: 50%;\n",
              "      cursor: pointer;\n",
              "      display: none;\n",
              "      fill: #1967D2;\n",
              "      height: 32px;\n",
              "      padding: 0 0 0 0;\n",
              "      width: 32px;\n",
              "    }\n",
              "\n",
              "    .colab-df-convert:hover {\n",
              "      background-color: #E2EBFA;\n",
              "      box-shadow: 0px 1px 2px rgba(60, 64, 67, 0.3), 0px 1px 3px 1px rgba(60, 64, 67, 0.15);\n",
              "      fill: #174EA6;\n",
              "    }\n",
              "\n",
              "    [theme=dark] .colab-df-convert {\n",
              "      background-color: #3B4455;\n",
              "      fill: #D2E3FC;\n",
              "    }\n",
              "\n",
              "    [theme=dark] .colab-df-convert:hover {\n",
              "      background-color: #434B5C;\n",
              "      box-shadow: 0px 1px 3px 1px rgba(0, 0, 0, 0.15);\n",
              "      filter: drop-shadow(0px 1px 2px rgba(0, 0, 0, 0.3));\n",
              "      fill: #FFFFFF;\n",
              "    }\n",
              "  </style>\n",
              "\n",
              "      <script>\n",
              "        const buttonEl =\n",
              "          document.querySelector('#df-b054203c-9dd6-4726-a677-7c1ebd1f2409 button.colab-df-convert');\n",
              "        buttonEl.style.display =\n",
              "          google.colab.kernel.accessAllowed ? 'block' : 'none';\n",
              "\n",
              "        async function convertToInteractive(key) {\n",
              "          const element = document.querySelector('#df-b054203c-9dd6-4726-a677-7c1ebd1f2409');\n",
              "          const dataTable =\n",
              "            await google.colab.kernel.invokeFunction('convertToInteractive',\n",
              "                                                     [key], {});\n",
              "          if (!dataTable) return;\n",
              "\n",
              "          const docLinkHtml = 'Like what you see? Visit the ' +\n",
              "            '<a target=\"_blank\" href=https://colab.research.google.com/notebooks/data_table.ipynb>data table notebook</a>'\n",
              "            + ' to learn more about interactive tables.';\n",
              "          element.innerHTML = '';\n",
              "          dataTable['output_type'] = 'display_data';\n",
              "          await google.colab.output.renderOutput(dataTable, element);\n",
              "          const docLink = document.createElement('div');\n",
              "          docLink.innerHTML = docLinkHtml;\n",
              "          element.appendChild(docLink);\n",
              "        }\n",
              "      </script>\n",
              "    </div>\n",
              "  </div>\n",
              "  "
            ]
          },
          "metadata": {},
          "execution_count": 15
        }
      ],
      "source": [
        "df.head(3)"
      ]
    },
    {
      "cell_type": "code",
      "execution_count": 16,
      "id": "96088d87",
      "metadata": {
        "execution": {
          "iopub.execute_input": "2021-11-18T07:23:34.431165Z",
          "iopub.status.busy": "2021-11-18T07:23:34.430142Z",
          "iopub.status.idle": "2021-11-18T07:23:34.460503Z",
          "shell.execute_reply": "2021-11-18T07:23:34.461034Z",
          "shell.execute_reply.started": "2021-11-18T06:15:23.475393Z"
        },
        "papermill": {
          "duration": 0.075666,
          "end_time": "2021-11-18T07:23:34.461224",
          "exception": false,
          "start_time": "2021-11-18T07:23:34.385558",
          "status": "completed"
        },
        "tags": [],
        "id": "96088d87"
      },
      "outputs": [],
      "source": [
        "df.drop(index=516, inplace=True)"
      ]
    },
    {
      "cell_type": "code",
      "execution_count": 17,
      "id": "f7bb7eb0",
      "metadata": {
        "execution": {
          "iopub.execute_input": "2021-11-18T07:23:34.548614Z",
          "iopub.status.busy": "2021-11-18T07:23:34.547572Z",
          "iopub.status.idle": "2021-11-18T07:23:34.804939Z",
          "shell.execute_reply": "2021-11-18T07:23:34.804313Z",
          "shell.execute_reply.started": "2021-11-18T06:15:23.501112Z"
        },
        "papermill": {
          "duration": 0.302657,
          "end_time": "2021-11-18T07:23:34.805088",
          "exception": false,
          "start_time": "2021-11-18T07:23:34.502431",
          "status": "completed"
        },
        "tags": [],
        "id": "f7bb7eb0"
      },
      "outputs": [],
      "source": [
        "#let's change relevant columns to the correct data types\n",
        "\n",
        "df[['Quantity Ordered', 'Price Each']] = df[['Quantity Ordered', 'Price Each']].apply(pd.to_numeric)"
      ]
    },
    {
      "cell_type": "code",
      "execution_count": 18,
      "id": "01e42a97",
      "metadata": {
        "execution": {
          "iopub.execute_input": "2021-11-18T07:23:34.895268Z",
          "iopub.status.busy": "2021-11-18T07:23:34.891004Z",
          "iopub.status.idle": "2021-11-18T07:23:34.898032Z",
          "shell.execute_reply": "2021-11-18T07:23:34.898673Z",
          "shell.execute_reply.started": "2021-11-18T06:15:23.755801Z"
        },
        "papermill": {
          "duration": 0.051806,
          "end_time": "2021-11-18T07:23:34.898843",
          "exception": false,
          "start_time": "2021-11-18T07:23:34.847037",
          "status": "completed"
        },
        "tags": [],
        "colab": {
          "base_uri": "https://localhost:8080/"
        },
        "id": "01e42a97",
        "outputId": "22e9f7da-afd1-4e37-e238-03fa89621b57"
      },
      "outputs": [
        {
          "output_type": "execute_result",
          "data": {
            "text/plain": [
              "Order ID             object\n",
              "Product              object\n",
              "Quantity Ordered      int64\n",
              "Price Each          float64\n",
              "Order Date           object\n",
              "Purchase Address     object\n",
              "dtype: object"
            ]
          },
          "metadata": {},
          "execution_count": 18
        }
      ],
      "source": [
        "# check to see if it worked\n",
        "df.dtypes"
      ]
    },
    {
      "cell_type": "markdown",
      "id": "2bfaeb13",
      "metadata": {
        "papermill": {
          "duration": 0.04105,
          "end_time": "2021-11-18T07:23:34.981335",
          "exception": false,
          "start_time": "2021-11-18T07:23:34.940285",
          "status": "completed"
        },
        "tags": [],
        "id": "2bfaeb13"
      },
      "source": [
        "#### Next, we have to augment the data by adding relevant extra columns"
      ]
    },
    {
      "cell_type": "code",
      "execution_count": 19,
      "id": "c8b33eec",
      "metadata": {
        "execution": {
          "iopub.execute_input": "2021-11-18T07:23:35.068553Z",
          "iopub.status.busy": "2021-11-18T07:23:35.067527Z",
          "iopub.status.idle": "2021-11-18T07:23:35.073634Z",
          "shell.execute_reply": "2021-11-18T07:23:35.074263Z",
          "shell.execute_reply.started": "2021-11-18T06:15:23.765895Z"
        },
        "papermill": {
          "duration": 0.051621,
          "end_time": "2021-11-18T07:23:35.074435",
          "exception": false,
          "start_time": "2021-11-18T07:23:35.022814",
          "status": "completed"
        },
        "tags": [],
        "id": "c8b33eec"
      },
      "outputs": [],
      "source": [
        "df['Total'] = df['Quantity Ordered'] * df['Price Each']"
      ]
    },
    {
      "cell_type": "code",
      "execution_count": 20,
      "id": "9d7fd348",
      "metadata": {
        "execution": {
          "iopub.execute_input": "2021-11-18T07:23:35.161747Z",
          "iopub.status.busy": "2021-11-18T07:23:35.160724Z",
          "iopub.status.idle": "2021-11-18T07:23:35.173319Z",
          "shell.execute_reply": "2021-11-18T07:23:35.173926Z",
          "shell.execute_reply.started": "2021-11-18T06:15:23.775755Z"
        },
        "papermill": {
          "duration": 0.057615,
          "end_time": "2021-11-18T07:23:35.174098",
          "exception": false,
          "start_time": "2021-11-18T07:23:35.116483",
          "status": "completed"
        },
        "tags": [],
        "colab": {
          "base_uri": "https://localhost:8080/",
          "height": 112
        },
        "id": "9d7fd348",
        "outputId": "7a44e71a-f8b0-4f3f-9073-1e5b9a202105"
      },
      "outputs": [
        {
          "output_type": "execute_result",
          "data": {
            "text/plain": [
              "  Order ID                     Product  Quantity Ordered  Price Each  \\\n",
              "0   176558        USB-C Charging Cable                 2       11.95   \n",
              "1   176559  Bose SoundSport Headphones                 1       99.99   \n",
              "\n",
              "       Order Date                   Purchase Address  Total  \n",
              "0  4/19/2019 8:46       917 1st St, Dallas, TX 75001  23.90  \n",
              "1  4/7/2019 22:30  682 Chestnut St, Boston, MA 02215  99.99  "
            ],
            "text/html": [
              "\n",
              "  <div id=\"df-d5395d11-cb1f-4b38-9973-fb280dc570e8\">\n",
              "    <div class=\"colab-df-container\">\n",
              "      <div>\n",
              "<style scoped>\n",
              "    .dataframe tbody tr th:only-of-type {\n",
              "        vertical-align: middle;\n",
              "    }\n",
              "\n",
              "    .dataframe tbody tr th {\n",
              "        vertical-align: top;\n",
              "    }\n",
              "\n",
              "    .dataframe thead th {\n",
              "        text-align: right;\n",
              "    }\n",
              "</style>\n",
              "<table border=\"1\" class=\"dataframe\">\n",
              "  <thead>\n",
              "    <tr style=\"text-align: right;\">\n",
              "      <th></th>\n",
              "      <th>Order ID</th>\n",
              "      <th>Product</th>\n",
              "      <th>Quantity Ordered</th>\n",
              "      <th>Price Each</th>\n",
              "      <th>Order Date</th>\n",
              "      <th>Purchase Address</th>\n",
              "      <th>Total</th>\n",
              "    </tr>\n",
              "  </thead>\n",
              "  <tbody>\n",
              "    <tr>\n",
              "      <th>0</th>\n",
              "      <td>176558</td>\n",
              "      <td>USB-C Charging Cable</td>\n",
              "      <td>2</td>\n",
              "      <td>11.95</td>\n",
              "      <td>4/19/2019 8:46</td>\n",
              "      <td>917 1st St, Dallas, TX 75001</td>\n",
              "      <td>23.90</td>\n",
              "    </tr>\n",
              "    <tr>\n",
              "      <th>1</th>\n",
              "      <td>176559</td>\n",
              "      <td>Bose SoundSport Headphones</td>\n",
              "      <td>1</td>\n",
              "      <td>99.99</td>\n",
              "      <td>4/7/2019 22:30</td>\n",
              "      <td>682 Chestnut St, Boston, MA 02215</td>\n",
              "      <td>99.99</td>\n",
              "    </tr>\n",
              "  </tbody>\n",
              "</table>\n",
              "</div>\n",
              "      <button class=\"colab-df-convert\" onclick=\"convertToInteractive('df-d5395d11-cb1f-4b38-9973-fb280dc570e8')\"\n",
              "              title=\"Convert this dataframe to an interactive table.\"\n",
              "              style=\"display:none;\">\n",
              "        \n",
              "  <svg xmlns=\"http://www.w3.org/2000/svg\" height=\"24px\"viewBox=\"0 0 24 24\"\n",
              "       width=\"24px\">\n",
              "    <path d=\"M0 0h24v24H0V0z\" fill=\"none\"/>\n",
              "    <path d=\"M18.56 5.44l.94 2.06.94-2.06 2.06-.94-2.06-.94-.94-2.06-.94 2.06-2.06.94zm-11 1L8.5 8.5l.94-2.06 2.06-.94-2.06-.94L8.5 2.5l-.94 2.06-2.06.94zm10 10l.94 2.06.94-2.06 2.06-.94-2.06-.94-.94-2.06-.94 2.06-2.06.94z\"/><path d=\"M17.41 7.96l-1.37-1.37c-.4-.4-.92-.59-1.43-.59-.52 0-1.04.2-1.43.59L10.3 9.45l-7.72 7.72c-.78.78-.78 2.05 0 2.83L4 21.41c.39.39.9.59 1.41.59.51 0 1.02-.2 1.41-.59l7.78-7.78 2.81-2.81c.8-.78.8-2.07 0-2.86zM5.41 20L4 18.59l7.72-7.72 1.47 1.35L5.41 20z\"/>\n",
              "  </svg>\n",
              "      </button>\n",
              "      \n",
              "  <style>\n",
              "    .colab-df-container {\n",
              "      display:flex;\n",
              "      flex-wrap:wrap;\n",
              "      gap: 12px;\n",
              "    }\n",
              "\n",
              "    .colab-df-convert {\n",
              "      background-color: #E8F0FE;\n",
              "      border: none;\n",
              "      border-radius: 50%;\n",
              "      cursor: pointer;\n",
              "      display: none;\n",
              "      fill: #1967D2;\n",
              "      height: 32px;\n",
              "      padding: 0 0 0 0;\n",
              "      width: 32px;\n",
              "    }\n",
              "\n",
              "    .colab-df-convert:hover {\n",
              "      background-color: #E2EBFA;\n",
              "      box-shadow: 0px 1px 2px rgba(60, 64, 67, 0.3), 0px 1px 3px 1px rgba(60, 64, 67, 0.15);\n",
              "      fill: #174EA6;\n",
              "    }\n",
              "\n",
              "    [theme=dark] .colab-df-convert {\n",
              "      background-color: #3B4455;\n",
              "      fill: #D2E3FC;\n",
              "    }\n",
              "\n",
              "    [theme=dark] .colab-df-convert:hover {\n",
              "      background-color: #434B5C;\n",
              "      box-shadow: 0px 1px 3px 1px rgba(0, 0, 0, 0.15);\n",
              "      filter: drop-shadow(0px 1px 2px rgba(0, 0, 0, 0.3));\n",
              "      fill: #FFFFFF;\n",
              "    }\n",
              "  </style>\n",
              "\n",
              "      <script>\n",
              "        const buttonEl =\n",
              "          document.querySelector('#df-d5395d11-cb1f-4b38-9973-fb280dc570e8 button.colab-df-convert');\n",
              "        buttonEl.style.display =\n",
              "          google.colab.kernel.accessAllowed ? 'block' : 'none';\n",
              "\n",
              "        async function convertToInteractive(key) {\n",
              "          const element = document.querySelector('#df-d5395d11-cb1f-4b38-9973-fb280dc570e8');\n",
              "          const dataTable =\n",
              "            await google.colab.kernel.invokeFunction('convertToInteractive',\n",
              "                                                     [key], {});\n",
              "          if (!dataTable) return;\n",
              "\n",
              "          const docLinkHtml = 'Like what you see? Visit the ' +\n",
              "            '<a target=\"_blank\" href=https://colab.research.google.com/notebooks/data_table.ipynb>data table notebook</a>'\n",
              "            + ' to learn more about interactive tables.';\n",
              "          element.innerHTML = '';\n",
              "          dataTable['output_type'] = 'display_data';\n",
              "          await google.colab.output.renderOutput(dataTable, element);\n",
              "          const docLink = document.createElement('div');\n",
              "          docLink.innerHTML = docLinkHtml;\n",
              "          element.appendChild(docLink);\n",
              "        }\n",
              "      </script>\n",
              "    </div>\n",
              "  </div>\n",
              "  "
            ]
          },
          "metadata": {},
          "execution_count": 20
        }
      ],
      "source": [
        "df.head(2)"
      ]
    },
    {
      "cell_type": "code",
      "execution_count": 21,
      "id": "c154203b",
      "metadata": {
        "execution": {
          "iopub.execute_input": "2021-11-18T07:23:35.266223Z",
          "iopub.status.busy": "2021-11-18T07:23:35.265130Z",
          "iopub.status.idle": "2021-11-18T07:23:35.267508Z",
          "shell.execute_reply": "2021-11-18T07:23:35.268773Z",
          "shell.execute_reply.started": "2021-11-18T06:15:23.794355Z"
        },
        "papermill": {
          "duration": 0.050943,
          "end_time": "2021-11-18T07:23:35.269021",
          "exception": false,
          "start_time": "2021-11-18T07:23:35.218078",
          "status": "completed"
        },
        "tags": [],
        "id": "c154203b"
      },
      "outputs": [],
      "source": [
        "df.reset_index(drop=True, inplace = True)"
      ]
    },
    {
      "cell_type": "code",
      "execution_count": 22,
      "id": "1ef603c7",
      "metadata": {
        "execution": {
          "iopub.execute_input": "2021-11-18T07:23:35.360333Z",
          "iopub.status.busy": "2021-11-18T07:23:35.359505Z",
          "iopub.status.idle": "2021-11-18T07:23:35.362761Z",
          "shell.execute_reply": "2021-11-18T07:23:35.363268Z",
          "shell.execute_reply.started": "2021-11-18T06:15:23.808433Z"
        },
        "papermill": {
          "duration": 0.052067,
          "end_time": "2021-11-18T07:23:35.363437",
          "exception": false,
          "start_time": "2021-11-18T07:23:35.311370",
          "status": "completed"
        },
        "tags": [],
        "colab": {
          "base_uri": "https://localhost:8080/"
        },
        "id": "1ef603c7",
        "outputId": "38ae4bed-f40a-430a-b636-23d94d2cc22d"
      },
      "outputs": [
        {
          "output_type": "execute_result",
          "data": {
            "text/plain": [
              "(185686, 7)"
            ]
          },
          "metadata": {},
          "execution_count": 22
        }
      ],
      "source": [
        "df.shape"
      ]
    },
    {
      "cell_type": "code",
      "execution_count": 23,
      "id": "5f9dfbb2",
      "metadata": {
        "execution": {
          "iopub.execute_input": "2021-11-18T07:23:35.452082Z",
          "iopub.status.busy": "2021-11-18T07:23:35.451081Z",
          "iopub.status.idle": "2021-11-18T07:23:40.726766Z",
          "shell.execute_reply": "2021-11-18T07:23:40.726125Z",
          "shell.execute_reply.started": "2021-11-18T06:15:23.822203Z"
        },
        "papermill": {
          "duration": 5.321279,
          "end_time": "2021-11-18T07:23:40.726959",
          "exception": false,
          "start_time": "2021-11-18T07:23:35.405680",
          "status": "completed"
        },
        "tags": [],
        "id": "5f9dfbb2"
      },
      "outputs": [],
      "source": [
        "df['Month'] = df['Order Date'].str[0:1].apply(pd.to_numeric)"
      ]
    },
    {
      "cell_type": "code",
      "execution_count": 24,
      "id": "45db150a",
      "metadata": {
        "execution": {
          "iopub.execute_input": "2021-11-18T07:23:40.818047Z",
          "iopub.status.busy": "2021-11-18T07:23:40.817413Z",
          "iopub.status.idle": "2021-11-18T07:23:40.830018Z",
          "shell.execute_reply": "2021-11-18T07:23:40.829500Z",
          "shell.execute_reply.started": "2021-11-18T06:15:29.155549Z"
        },
        "papermill": {
          "duration": 0.057939,
          "end_time": "2021-11-18T07:23:40.830160",
          "exception": false,
          "start_time": "2021-11-18T07:23:40.772221",
          "status": "completed"
        },
        "tags": [],
        "colab": {
          "base_uri": "https://localhost:8080/",
          "height": 112
        },
        "id": "45db150a",
        "outputId": "f10f350b-2b74-4806-d7db-c881bfd54dde"
      },
      "outputs": [
        {
          "output_type": "execute_result",
          "data": {
            "text/plain": [
              "  Order ID                     Product  Quantity Ordered  Price Each  \\\n",
              "0   176558        USB-C Charging Cable                 2       11.95   \n",
              "1   176559  Bose SoundSport Headphones                 1       99.99   \n",
              "\n",
              "       Order Date                   Purchase Address  Total  Month  \n",
              "0  4/19/2019 8:46       917 1st St, Dallas, TX 75001  23.90      4  \n",
              "1  4/7/2019 22:30  682 Chestnut St, Boston, MA 02215  99.99      4  "
            ],
            "text/html": [
              "\n",
              "  <div id=\"df-ff52e7de-6047-4690-b284-01ca93508827\">\n",
              "    <div class=\"colab-df-container\">\n",
              "      <div>\n",
              "<style scoped>\n",
              "    .dataframe tbody tr th:only-of-type {\n",
              "        vertical-align: middle;\n",
              "    }\n",
              "\n",
              "    .dataframe tbody tr th {\n",
              "        vertical-align: top;\n",
              "    }\n",
              "\n",
              "    .dataframe thead th {\n",
              "        text-align: right;\n",
              "    }\n",
              "</style>\n",
              "<table border=\"1\" class=\"dataframe\">\n",
              "  <thead>\n",
              "    <tr style=\"text-align: right;\">\n",
              "      <th></th>\n",
              "      <th>Order ID</th>\n",
              "      <th>Product</th>\n",
              "      <th>Quantity Ordered</th>\n",
              "      <th>Price Each</th>\n",
              "      <th>Order Date</th>\n",
              "      <th>Purchase Address</th>\n",
              "      <th>Total</th>\n",
              "      <th>Month</th>\n",
              "    </tr>\n",
              "  </thead>\n",
              "  <tbody>\n",
              "    <tr>\n",
              "      <th>0</th>\n",
              "      <td>176558</td>\n",
              "      <td>USB-C Charging Cable</td>\n",
              "      <td>2</td>\n",
              "      <td>11.95</td>\n",
              "      <td>4/19/2019 8:46</td>\n",
              "      <td>917 1st St, Dallas, TX 75001</td>\n",
              "      <td>23.90</td>\n",
              "      <td>4</td>\n",
              "    </tr>\n",
              "    <tr>\n",
              "      <th>1</th>\n",
              "      <td>176559</td>\n",
              "      <td>Bose SoundSport Headphones</td>\n",
              "      <td>1</td>\n",
              "      <td>99.99</td>\n",
              "      <td>4/7/2019 22:30</td>\n",
              "      <td>682 Chestnut St, Boston, MA 02215</td>\n",
              "      <td>99.99</td>\n",
              "      <td>4</td>\n",
              "    </tr>\n",
              "  </tbody>\n",
              "</table>\n",
              "</div>\n",
              "      <button class=\"colab-df-convert\" onclick=\"convertToInteractive('df-ff52e7de-6047-4690-b284-01ca93508827')\"\n",
              "              title=\"Convert this dataframe to an interactive table.\"\n",
              "              style=\"display:none;\">\n",
              "        \n",
              "  <svg xmlns=\"http://www.w3.org/2000/svg\" height=\"24px\"viewBox=\"0 0 24 24\"\n",
              "       width=\"24px\">\n",
              "    <path d=\"M0 0h24v24H0V0z\" fill=\"none\"/>\n",
              "    <path d=\"M18.56 5.44l.94 2.06.94-2.06 2.06-.94-2.06-.94-.94-2.06-.94 2.06-2.06.94zm-11 1L8.5 8.5l.94-2.06 2.06-.94-2.06-.94L8.5 2.5l-.94 2.06-2.06.94zm10 10l.94 2.06.94-2.06 2.06-.94-2.06-.94-.94-2.06-.94 2.06-2.06.94z\"/><path d=\"M17.41 7.96l-1.37-1.37c-.4-.4-.92-.59-1.43-.59-.52 0-1.04.2-1.43.59L10.3 9.45l-7.72 7.72c-.78.78-.78 2.05 0 2.83L4 21.41c.39.39.9.59 1.41.59.51 0 1.02-.2 1.41-.59l7.78-7.78 2.81-2.81c.8-.78.8-2.07 0-2.86zM5.41 20L4 18.59l7.72-7.72 1.47 1.35L5.41 20z\"/>\n",
              "  </svg>\n",
              "      </button>\n",
              "      \n",
              "  <style>\n",
              "    .colab-df-container {\n",
              "      display:flex;\n",
              "      flex-wrap:wrap;\n",
              "      gap: 12px;\n",
              "    }\n",
              "\n",
              "    .colab-df-convert {\n",
              "      background-color: #E8F0FE;\n",
              "      border: none;\n",
              "      border-radius: 50%;\n",
              "      cursor: pointer;\n",
              "      display: none;\n",
              "      fill: #1967D2;\n",
              "      height: 32px;\n",
              "      padding: 0 0 0 0;\n",
              "      width: 32px;\n",
              "    }\n",
              "\n",
              "    .colab-df-convert:hover {\n",
              "      background-color: #E2EBFA;\n",
              "      box-shadow: 0px 1px 2px rgba(60, 64, 67, 0.3), 0px 1px 3px 1px rgba(60, 64, 67, 0.15);\n",
              "      fill: #174EA6;\n",
              "    }\n",
              "\n",
              "    [theme=dark] .colab-df-convert {\n",
              "      background-color: #3B4455;\n",
              "      fill: #D2E3FC;\n",
              "    }\n",
              "\n",
              "    [theme=dark] .colab-df-convert:hover {\n",
              "      background-color: #434B5C;\n",
              "      box-shadow: 0px 1px 3px 1px rgba(0, 0, 0, 0.15);\n",
              "      filter: drop-shadow(0px 1px 2px rgba(0, 0, 0, 0.3));\n",
              "      fill: #FFFFFF;\n",
              "    }\n",
              "  </style>\n",
              "\n",
              "      <script>\n",
              "        const buttonEl =\n",
              "          document.querySelector('#df-ff52e7de-6047-4690-b284-01ca93508827 button.colab-df-convert');\n",
              "        buttonEl.style.display =\n",
              "          google.colab.kernel.accessAllowed ? 'block' : 'none';\n",
              "\n",
              "        async function convertToInteractive(key) {\n",
              "          const element = document.querySelector('#df-ff52e7de-6047-4690-b284-01ca93508827');\n",
              "          const dataTable =\n",
              "            await google.colab.kernel.invokeFunction('convertToInteractive',\n",
              "                                                     [key], {});\n",
              "          if (!dataTable) return;\n",
              "\n",
              "          const docLinkHtml = 'Like what you see? Visit the ' +\n",
              "            '<a target=\"_blank\" href=https://colab.research.google.com/notebooks/data_table.ipynb>data table notebook</a>'\n",
              "            + ' to learn more about interactive tables.';\n",
              "          element.innerHTML = '';\n",
              "          dataTable['output_type'] = 'display_data';\n",
              "          await google.colab.output.renderOutput(dataTable, element);\n",
              "          const docLink = document.createElement('div');\n",
              "          docLink.innerHTML = docLinkHtml;\n",
              "          element.appendChild(docLink);\n",
              "        }\n",
              "      </script>\n",
              "    </div>\n",
              "  </div>\n",
              "  "
            ]
          },
          "metadata": {},
          "execution_count": 24
        }
      ],
      "source": [
        "df.head(2)"
      ]
    },
    {
      "cell_type": "code",
      "execution_count": 25,
      "id": "584be4c4",
      "metadata": {
        "execution": {
          "iopub.execute_input": "2021-11-18T07:23:40.919103Z",
          "iopub.status.busy": "2021-11-18T07:23:40.918468Z",
          "iopub.status.idle": "2021-11-18T07:23:40.924219Z",
          "shell.execute_reply": "2021-11-18T07:23:40.924748Z",
          "shell.execute_reply.started": "2021-11-18T06:15:29.172433Z"
        },
        "papermill": {
          "duration": 0.051766,
          "end_time": "2021-11-18T07:23:40.924924",
          "exception": false,
          "start_time": "2021-11-18T07:23:40.873158",
          "status": "completed"
        },
        "tags": [],
        "colab": {
          "base_uri": "https://localhost:8080/"
        },
        "id": "584be4c4",
        "outputId": "428bb854-752d-47cb-bb94-a8cfd0f60bf3"
      },
      "outputs": [
        {
          "output_type": "execute_result",
          "data": {
            "text/plain": [
              "Order ID             object\n",
              "Product              object\n",
              "Quantity Ordered      int64\n",
              "Price Each          float64\n",
              "Order Date           object\n",
              "Purchase Address     object\n",
              "Total               float64\n",
              "Month                 int64\n",
              "dtype: object"
            ]
          },
          "metadata": {},
          "execution_count": 25
        }
      ],
      "source": [
        "df.dtypes"
      ]
    },
    {
      "cell_type": "code",
      "execution_count": 26,
      "id": "93aa24d4",
      "metadata": {
        "execution": {
          "iopub.execute_input": "2021-11-18T07:23:41.015900Z",
          "iopub.status.busy": "2021-11-18T07:23:41.015254Z",
          "iopub.status.idle": "2021-11-18T07:23:41.305755Z",
          "shell.execute_reply": "2021-11-18T07:23:41.306370Z",
          "shell.execute_reply.started": "2021-11-18T06:15:29.192104Z"
        },
        "papermill": {
          "duration": 0.337492,
          "end_time": "2021-11-18T07:23:41.306561",
          "exception": false,
          "start_time": "2021-11-18T07:23:40.969069",
          "status": "completed"
        },
        "tags": [],
        "id": "93aa24d4"
      },
      "outputs": [],
      "source": [
        "def city(address):\n",
        "    return address.split(\",\")[1]\n",
        "    \n",
        "def state(address):\n",
        "    return address.split(\",\")[2].split(\" \")[1]\n",
        "\n",
        "def zipcode(address):\n",
        "    return address.split(\",\")[2].split(\" \")[3]\n",
        "    \n",
        "df['City'] = df['Purchase Address'].apply(lambda x: city(x) + ', ' + state(x))"
      ]
    },
    {
      "cell_type": "code",
      "execution_count": 27,
      "id": "5fb80e4f",
      "metadata": {
        "execution": {
          "iopub.execute_input": "2021-11-18T07:23:41.397397Z",
          "iopub.status.busy": "2021-11-18T07:23:41.396663Z",
          "iopub.status.idle": "2021-11-18T07:23:41.409906Z",
          "shell.execute_reply": "2021-11-18T07:23:41.410407Z",
          "shell.execute_reply.started": "2021-11-18T06:15:29.492446Z"
        },
        "papermill": {
          "duration": 0.060711,
          "end_time": "2021-11-18T07:23:41.410595",
          "exception": false,
          "start_time": "2021-11-18T07:23:41.349884",
          "status": "completed"
        },
        "tags": [],
        "colab": {
          "base_uri": "https://localhost:8080/",
          "height": 112
        },
        "id": "5fb80e4f",
        "outputId": "f9176814-833b-4a6f-9aaa-171cd5f3f727"
      },
      "outputs": [
        {
          "output_type": "execute_result",
          "data": {
            "text/plain": [
              "  Order ID                     Product  Quantity Ordered  Price Each  \\\n",
              "0   176558        USB-C Charging Cable                 2       11.95   \n",
              "1   176559  Bose SoundSport Headphones                 1       99.99   \n",
              "\n",
              "       Order Date                   Purchase Address  Total  Month  \\\n",
              "0  4/19/2019 8:46       917 1st St, Dallas, TX 75001  23.90      4   \n",
              "1  4/7/2019 22:30  682 Chestnut St, Boston, MA 02215  99.99      4   \n",
              "\n",
              "          City  \n",
              "0   Dallas, TX  \n",
              "1   Boston, MA  "
            ],
            "text/html": [
              "\n",
              "  <div id=\"df-ed93d310-7f10-4986-bd38-5b7c5316cfac\">\n",
              "    <div class=\"colab-df-container\">\n",
              "      <div>\n",
              "<style scoped>\n",
              "    .dataframe tbody tr th:only-of-type {\n",
              "        vertical-align: middle;\n",
              "    }\n",
              "\n",
              "    .dataframe tbody tr th {\n",
              "        vertical-align: top;\n",
              "    }\n",
              "\n",
              "    .dataframe thead th {\n",
              "        text-align: right;\n",
              "    }\n",
              "</style>\n",
              "<table border=\"1\" class=\"dataframe\">\n",
              "  <thead>\n",
              "    <tr style=\"text-align: right;\">\n",
              "      <th></th>\n",
              "      <th>Order ID</th>\n",
              "      <th>Product</th>\n",
              "      <th>Quantity Ordered</th>\n",
              "      <th>Price Each</th>\n",
              "      <th>Order Date</th>\n",
              "      <th>Purchase Address</th>\n",
              "      <th>Total</th>\n",
              "      <th>Month</th>\n",
              "      <th>City</th>\n",
              "    </tr>\n",
              "  </thead>\n",
              "  <tbody>\n",
              "    <tr>\n",
              "      <th>0</th>\n",
              "      <td>176558</td>\n",
              "      <td>USB-C Charging Cable</td>\n",
              "      <td>2</td>\n",
              "      <td>11.95</td>\n",
              "      <td>4/19/2019 8:46</td>\n",
              "      <td>917 1st St, Dallas, TX 75001</td>\n",
              "      <td>23.90</td>\n",
              "      <td>4</td>\n",
              "      <td>Dallas, TX</td>\n",
              "    </tr>\n",
              "    <tr>\n",
              "      <th>1</th>\n",
              "      <td>176559</td>\n",
              "      <td>Bose SoundSport Headphones</td>\n",
              "      <td>1</td>\n",
              "      <td>99.99</td>\n",
              "      <td>4/7/2019 22:30</td>\n",
              "      <td>682 Chestnut St, Boston, MA 02215</td>\n",
              "      <td>99.99</td>\n",
              "      <td>4</td>\n",
              "      <td>Boston, MA</td>\n",
              "    </tr>\n",
              "  </tbody>\n",
              "</table>\n",
              "</div>\n",
              "      <button class=\"colab-df-convert\" onclick=\"convertToInteractive('df-ed93d310-7f10-4986-bd38-5b7c5316cfac')\"\n",
              "              title=\"Convert this dataframe to an interactive table.\"\n",
              "              style=\"display:none;\">\n",
              "        \n",
              "  <svg xmlns=\"http://www.w3.org/2000/svg\" height=\"24px\"viewBox=\"0 0 24 24\"\n",
              "       width=\"24px\">\n",
              "    <path d=\"M0 0h24v24H0V0z\" fill=\"none\"/>\n",
              "    <path d=\"M18.56 5.44l.94 2.06.94-2.06 2.06-.94-2.06-.94-.94-2.06-.94 2.06-2.06.94zm-11 1L8.5 8.5l.94-2.06 2.06-.94-2.06-.94L8.5 2.5l-.94 2.06-2.06.94zm10 10l.94 2.06.94-2.06 2.06-.94-2.06-.94-.94-2.06-.94 2.06-2.06.94z\"/><path d=\"M17.41 7.96l-1.37-1.37c-.4-.4-.92-.59-1.43-.59-.52 0-1.04.2-1.43.59L10.3 9.45l-7.72 7.72c-.78.78-.78 2.05 0 2.83L4 21.41c.39.39.9.59 1.41.59.51 0 1.02-.2 1.41-.59l7.78-7.78 2.81-2.81c.8-.78.8-2.07 0-2.86zM5.41 20L4 18.59l7.72-7.72 1.47 1.35L5.41 20z\"/>\n",
              "  </svg>\n",
              "      </button>\n",
              "      \n",
              "  <style>\n",
              "    .colab-df-container {\n",
              "      display:flex;\n",
              "      flex-wrap:wrap;\n",
              "      gap: 12px;\n",
              "    }\n",
              "\n",
              "    .colab-df-convert {\n",
              "      background-color: #E8F0FE;\n",
              "      border: none;\n",
              "      border-radius: 50%;\n",
              "      cursor: pointer;\n",
              "      display: none;\n",
              "      fill: #1967D2;\n",
              "      height: 32px;\n",
              "      padding: 0 0 0 0;\n",
              "      width: 32px;\n",
              "    }\n",
              "\n",
              "    .colab-df-convert:hover {\n",
              "      background-color: #E2EBFA;\n",
              "      box-shadow: 0px 1px 2px rgba(60, 64, 67, 0.3), 0px 1px 3px 1px rgba(60, 64, 67, 0.15);\n",
              "      fill: #174EA6;\n",
              "    }\n",
              "\n",
              "    [theme=dark] .colab-df-convert {\n",
              "      background-color: #3B4455;\n",
              "      fill: #D2E3FC;\n",
              "    }\n",
              "\n",
              "    [theme=dark] .colab-df-convert:hover {\n",
              "      background-color: #434B5C;\n",
              "      box-shadow: 0px 1px 3px 1px rgba(0, 0, 0, 0.15);\n",
              "      filter: drop-shadow(0px 1px 2px rgba(0, 0, 0, 0.3));\n",
              "      fill: #FFFFFF;\n",
              "    }\n",
              "  </style>\n",
              "\n",
              "      <script>\n",
              "        const buttonEl =\n",
              "          document.querySelector('#df-ed93d310-7f10-4986-bd38-5b7c5316cfac button.colab-df-convert');\n",
              "        buttonEl.style.display =\n",
              "          google.colab.kernel.accessAllowed ? 'block' : 'none';\n",
              "\n",
              "        async function convertToInteractive(key) {\n",
              "          const element = document.querySelector('#df-ed93d310-7f10-4986-bd38-5b7c5316cfac');\n",
              "          const dataTable =\n",
              "            await google.colab.kernel.invokeFunction('convertToInteractive',\n",
              "                                                     [key], {});\n",
              "          if (!dataTable) return;\n",
              "\n",
              "          const docLinkHtml = 'Like what you see? Visit the ' +\n",
              "            '<a target=\"_blank\" href=https://colab.research.google.com/notebooks/data_table.ipynb>data table notebook</a>'\n",
              "            + ' to learn more about interactive tables.';\n",
              "          element.innerHTML = '';\n",
              "          dataTable['output_type'] = 'display_data';\n",
              "          await google.colab.output.renderOutput(dataTable, element);\n",
              "          const docLink = document.createElement('div');\n",
              "          docLink.innerHTML = docLinkHtml;\n",
              "          element.appendChild(docLink);\n",
              "        }\n",
              "      </script>\n",
              "    </div>\n",
              "  </div>\n",
              "  "
            ]
          },
          "metadata": {},
          "execution_count": 27
        }
      ],
      "source": [
        "df.head(2)"
      ]
    },
    {
      "cell_type": "code",
      "execution_count": 28,
      "id": "6cdca0bc",
      "metadata": {
        "execution": {
          "iopub.execute_input": "2021-11-18T07:23:41.508531Z",
          "iopub.status.busy": "2021-11-18T07:23:41.505100Z",
          "iopub.status.idle": "2021-11-18T07:23:41.684261Z",
          "shell.execute_reply": "2021-11-18T07:23:41.684909Z",
          "shell.execute_reply.started": "2021-11-18T06:15:29.509252Z"
        },
        "papermill": {
          "duration": 0.229336,
          "end_time": "2021-11-18T07:23:41.685090",
          "exception": false,
          "start_time": "2021-11-18T07:23:41.455754",
          "status": "completed"
        },
        "tags": [],
        "colab": {
          "base_uri": "https://localhost:8080/"
        },
        "id": "6cdca0bc",
        "outputId": "2b1f6fcf-fabd-4ed4-9f13-e4e8db8e7289"
      },
      "outputs": [
        {
          "output_type": "execute_result",
          "data": {
            "text/plain": [
              "Product\n",
              "USB-C Charging Cable          21859\n",
              "Lightning Charging Cable      21610\n",
              "AAA Batteries (4-pack)        20612\n",
              "AA Batteries (4-pack)         20558\n",
              "Wired Headphones              18849\n",
              "Apple Airpods Headphones      15525\n",
              "Bose SoundSport Headphones    13298\n",
              "27in FHD Monitor               7498\n",
              "iPhone                         6840\n",
              "27in 4K Gaming Monitor         6225\n",
              "34in Ultrawide Monitor         6174\n",
              "Google Phone                   5522\n",
              "Flatscreen TV                  4794\n",
              "Macbook Pro Laptop             4721\n",
              "ThinkPad Laptop                4126\n",
              "20in Monitor                   4098\n",
              "Vareebadd Phone                2065\n",
              "LG Washing Machine              666\n",
              "LG Dryer                        646\n",
              "Name: Quantity Ordered, dtype: int64"
            ]
          },
          "metadata": {},
          "execution_count": 28
        }
      ],
      "source": [
        "df.groupby('Product').count()['Quantity Ordered'].sort_values(ascending=False)"
      ]
    },
    {
      "cell_type": "code",
      "execution_count": 29,
      "id": "a2e78f99",
      "metadata": {
        "execution": {
          "iopub.execute_input": "2021-11-18T07:23:41.779334Z",
          "iopub.status.busy": "2021-11-18T07:23:41.778354Z",
          "iopub.status.idle": "2021-11-18T07:23:41.803627Z",
          "shell.execute_reply": "2021-11-18T07:23:41.804250Z",
          "shell.execute_reply.started": "2021-11-18T06:15:29.695994Z"
        },
        "papermill": {
          "duration": 0.074936,
          "end_time": "2021-11-18T07:23:41.804435",
          "exception": false,
          "start_time": "2021-11-18T07:23:41.729499",
          "status": "completed"
        },
        "tags": [],
        "colab": {
          "base_uri": "https://localhost:8080/"
        },
        "id": "a2e78f99",
        "outputId": "702f542d-db67-4262-840c-fd457fbdf198"
      },
      "outputs": [
        {
          "output_type": "execute_result",
          "data": {
            "text/plain": [
              "19"
            ]
          },
          "metadata": {},
          "execution_count": 29
        }
      ],
      "source": [
        "# How many unique products are there?\n",
        "\n",
        "df['Product'].nunique()"
      ]
    },
    {
      "cell_type": "code",
      "execution_count": 30,
      "id": "dde6be04",
      "metadata": {
        "execution": {
          "iopub.execute_input": "2021-11-18T07:23:41.900985Z",
          "iopub.status.busy": "2021-11-18T07:23:41.900168Z",
          "iopub.status.idle": "2021-11-18T07:23:42.036127Z",
          "shell.execute_reply": "2021-11-18T07:23:42.035407Z",
          "shell.execute_reply.started": "2021-11-18T06:15:29.723969Z"
        },
        "papermill": {
          "duration": 0.186095,
          "end_time": "2021-11-18T07:23:42.036312",
          "exception": false,
          "start_time": "2021-11-18T07:23:41.850217",
          "status": "completed"
        },
        "tags": [],
        "id": "dde6be04"
      },
      "outputs": [],
      "source": [
        "df_viz = df.groupby('Product').count()['Quantity Ordered'].sort_values()"
      ]
    },
    {
      "cell_type": "code",
      "execution_count": 31,
      "id": "fef60003",
      "metadata": {
        "execution": {
          "iopub.execute_input": "2021-11-18T07:23:42.136811Z",
          "iopub.status.busy": "2021-11-18T07:23:42.136028Z",
          "iopub.status.idle": "2021-11-18T07:23:42.598712Z",
          "shell.execute_reply": "2021-11-18T07:23:42.598026Z",
          "shell.execute_reply.started": "2021-11-18T06:15:29.863352Z"
        },
        "papermill": {
          "duration": 0.513734,
          "end_time": "2021-11-18T07:23:42.598887",
          "exception": false,
          "start_time": "2021-11-18T07:23:42.085153",
          "status": "completed"
        },
        "tags": [],
        "colab": {
          "base_uri": "https://localhost:8080/",
          "height": 546
        },
        "id": "fef60003",
        "outputId": "dd12deb2-a991-44d4-bdcb-6d5333dcdbb9"
      },
      "outputs": [
        {
          "output_type": "display_data",
          "data": {
            "text/plain": [
              "<Figure size 432x576 with 1 Axes>"
            ],
            "image/png": "[encoded data removed]"
          },
          "metadata": {
            "needs_background": "light"
          }
        }
      ],
      "source": [
        "# Best selling product by volume\n",
        "fig, ax = plt.subplots(figsize=(6,8))\n",
        "df_viz.plot(kind = 'barh',ax= ax)\n",
        "ax.set(title = 'Sales Count By Product')\n",
        "ax.title.set(y=1.07)\n",
        "ax.set_xlabel('Total Sold',size=12)\n",
        "ax.set_ylabel('Products',size=12)\n",
        "plt.show()"
      ]
    },
    {
      "cell_type": "code",
      "execution_count": 32,
      "id": "5e8eaeb7",
      "metadata": {
        "execution": {
          "iopub.execute_input": "2021-11-18T07:23:42.695954Z",
          "iopub.status.busy": "2021-11-18T07:23:42.695172Z",
          "iopub.status.idle": "2021-11-18T07:23:42.749770Z",
          "shell.execute_reply": "2021-11-18T07:23:42.750391Z",
          "shell.execute_reply.started": "2021-11-18T06:15:30.183552Z"
        },
        "papermill": {
          "duration": 0.104756,
          "end_time": "2021-11-18T07:23:42.750589",
          "exception": false,
          "start_time": "2021-11-18T07:23:42.645833",
          "status": "completed"
        },
        "tags": [],
        "colab": {
          "base_uri": "https://localhost:8080/"
        },
        "id": "5e8eaeb7",
        "outputId": "d6443bbf-61e1-4d21-e130-860450206c28"
      },
      "outputs": [
        {
          "output_type": "execute_result",
          "data": {
            "text/plain": [
              "Product\n",
              "Macbook Pro Laptop            8032500.00\n",
              "iPhone                        4792900.00\n",
              "ThinkPad Laptop               4127958.72\n",
              "Google Phone                  3317400.00\n",
              "27in 4K Gaming Monitor        2433147.61\n",
              "34in Ultrawide Monitor        2352898.08\n",
              "Apple Airpods Headphones      2345550.00\n",
              "Flatscreen TV                 1443900.00\n",
              "Bose SoundSport Headphones    1342865.70\n",
              "27in FHD Monitor              1131074.59\n",
              "Vareebadd Phone                827200.00\n",
              "20in Monitor                   453818.74\n",
              "LG Washing Machine             399600.00\n",
              "LG Dryer                       387600.00\n",
              "Lightning Charging Cable       346376.55\n",
              "USB-C Charging Cable           285975.45\n",
              "Wired Headphones               246082.76\n",
              "AA Batteries (4-pack)          106041.60\n",
              "AAA Batteries (4-pack)          92648.14\n",
              "Name: Total, dtype: float64"
            ]
          },
          "metadata": {},
          "execution_count": 32
        }
      ],
      "source": [
        "# Best selling product by revenue\n",
        "\n",
        "df.groupby('Product').sum()['Total'].sort_values(ascending=False)"
      ]
    },
    {
      "cell_type": "code",
      "execution_count": 33,
      "id": "1ccf069d",
      "metadata": {
        "execution": {
          "iopub.execute_input": "2021-11-18T07:23:42.851863Z",
          "iopub.status.busy": "2021-11-18T07:23:42.848062Z",
          "iopub.status.idle": "2021-11-18T07:23:42.898071Z",
          "shell.execute_reply": "2021-11-18T07:23:42.897507Z",
          "shell.execute_reply.started": "2021-11-18T06:15:30.239357Z"
        },
        "papermill": {
          "duration": 0.101327,
          "end_time": "2021-11-18T07:23:42.898250",
          "exception": false,
          "start_time": "2021-11-18T07:23:42.796923",
          "status": "completed"
        },
        "tags": [],
        "id": "1ccf069d"
      },
      "outputs": [],
      "source": [
        "salesByProduct = df.groupby('Product').sum()['Total'].sort_values()"
      ]
    },
    {
      "cell_type": "code",
      "source": [
        "df['Total'] = df['Quantity Ordered'] * df['Price Each']"
      ],
      "metadata": {
        "id": "xh_X0MbKIahF"
      },
      "id": "xh_X0MbKIahF",
      "execution_count": 34,
      "outputs": []
    },
    {
      "cell_type": "code",
      "source": [
        "df.reset_index(drop=True, inplace = True)"
      ],
      "metadata": {
        "id": "Q2v8NsuAIg4r"
      },
      "id": "Q2v8NsuAIg4r",
      "execution_count": 35,
      "outputs": []
    },
    {
      "cell_type": "code",
      "source": [
        "df.shape"
      ],
      "metadata": {
        "colab": {
          "base_uri": "https://localhost:8080/"
        },
        "id": "Q-56lSZrIlPS",
        "outputId": "928f80d9-6577-4a11-8860-f68aedd8b336"
      },
      "id": "Q-56lSZrIlPS",
      "execution_count": 36,
      "outputs": [
        {
          "output_type": "execute_result",
          "data": {
            "text/plain": [
              "(185686, 9)"
            ]
          },
          "metadata": {},
          "execution_count": 36
        }
      ]
    },
    {
      "cell_type": "code",
      "source": [
        "df['Month'] = df['Order Date'].str[0:1].apply(pd.to_numeric)"
      ],
      "metadata": {
        "id": "REvJFkFBIlMb"
      },
      "id": "REvJFkFBIlMb",
      "execution_count": 37,
      "outputs": []
    },
    {
      "cell_type": "code",
      "source": [
        "df.head(2)"
      ],
      "metadata": {
        "colab": {
          "base_uri": "https://localhost:8080/",
          "height": 112
        },
        "id": "Po7bSW_vIlDL",
        "outputId": "b5b73203-3cc7-4214-ebea-a5de7dd63fd6"
      },
      "id": "Po7bSW_vIlDL",
      "execution_count": 38,
      "outputs": [
        {
          "output_type": "execute_result",
          "data": {
            "text/plain": [
              "  Order ID                     Product  Quantity Ordered  Price Each  \\\n",
              "0   176558        USB-C Charging Cable                 2       11.95   \n",
              "1   176559  Bose SoundSport Headphones                 1       99.99   \n",
              "\n",
              "       Order Date                   Purchase Address  Total  Month  \\\n",
              "0  4/19/2019 8:46       917 1st St, Dallas, TX 75001  23.90      4   \n",
              "1  4/7/2019 22:30  682 Chestnut St, Boston, MA 02215  99.99      4   \n",
              "\n",
              "          City  \n",
              "0   Dallas, TX  \n",
              "1   Boston, MA  "
            ],
            "text/html": [
              "\n",
              "  <div id=\"df-e623a9f9-743e-4703-8b6b-9d3484388506\">\n",
              "    <div class=\"colab-df-container\">\n",
              "      <div>\n",
              "<style scoped>\n",
              "    .dataframe tbody tr th:only-of-type {\n",
              "        vertical-align: middle;\n",
              "    }\n",
              "\n",
              "    .dataframe tbody tr th {\n",
              "        vertical-align: top;\n",
              "    }\n",
              "\n",
              "    .dataframe thead th {\n",
              "        text-align: right;\n",
              "    }\n",
              "</style>\n",
              "<table border=\"1\" class=\"dataframe\">\n",
              "  <thead>\n",
              "    <tr style=\"text-align: right;\">\n",
              "      <th></th>\n",
              "      <th>Order ID</th>\n",
              "      <th>Product</th>\n",
              "      <th>Quantity Ordered</th>\n",
              "      <th>Price Each</th>\n",
              "      <th>Order Date</th>\n",
              "      <th>Purchase Address</th>\n",
              "      <th>Total</th>\n",
              "      <th>Month</th>\n",
              "      <th>City</th>\n",
              "    </tr>\n",
              "  </thead>\n",
              "  <tbody>\n",
              "    <tr>\n",
              "      <th>0</th>\n",
              "      <td>176558</td>\n",
              "      <td>USB-C Charging Cable</td>\n",
              "      <td>2</td>\n",
              "      <td>11.95</td>\n",
              "      <td>4/19/2019 8:46</td>\n",
              "      <td>917 1st St, Dallas, TX 75001</td>\n",
              "      <td>23.90</td>\n",
              "      <td>4</td>\n",
              "      <td>Dallas, TX</td>\n",
              "    </tr>\n",
              "    <tr>\n",
              "      <th>1</th>\n",
              "      <td>176559</td>\n",
              "      <td>Bose SoundSport Headphones</td>\n",
              "      <td>1</td>\n",
              "      <td>99.99</td>\n",
              "      <td>4/7/2019 22:30</td>\n",
              "      <td>682 Chestnut St, Boston, MA 02215</td>\n",
              "      <td>99.99</td>\n",
              "      <td>4</td>\n",
              "      <td>Boston, MA</td>\n",
              "    </tr>\n",
              "  </tbody>\n",
              "</table>\n",
              "</div>\n",
              "      <button class=\"colab-df-convert\" onclick=\"convertToInteractive('df-e623a9f9-743e-4703-8b6b-9d3484388506')\"\n",
              "              title=\"Convert this dataframe to an interactive table.\"\n",
              "              style=\"display:none;\">\n",
              "        \n",
              "  <svg xmlns=\"http://www.w3.org/2000/svg\" height=\"24px\"viewBox=\"0 0 24 24\"\n",
              "       width=\"24px\">\n",
              "    <path d=\"M0 0h24v24H0V0z\" fill=\"none\"/>\n",
              "    <path d=\"M18.56 5.44l.94 2.06.94-2.06 2.06-.94-2.06-.94-.94-2.06-.94 2.06-2.06.94zm-11 1L8.5 8.5l.94-2.06 2.06-.94-2.06-.94L8.5 2.5l-.94 2.06-2.06.94zm10 10l.94 2.06.94-2.06 2.06-.94-2.06-.94-.94-2.06-.94 2.06-2.06.94z\"/><path d=\"M17.41 7.96l-1.37-1.37c-.4-.4-.92-.59-1.43-.59-.52 0-1.04.2-1.43.59L10.3 9.45l-7.72 7.72c-.78.78-.78 2.05 0 2.83L4 21.41c.39.39.9.59 1.41.59.51 0 1.02-.2 1.41-.59l7.78-7.78 2.81-2.81c.8-.78.8-2.07 0-2.86zM5.41 20L4 18.59l7.72-7.72 1.47 1.35L5.41 20z\"/>\n",
              "  </svg>\n",
              "      </button>\n",
              "      \n",
              "  <style>\n",
              "    .colab-df-container {\n",
              "      display:flex;\n",
              "      flex-wrap:wrap;\n",
              "      gap: 12px;\n",
              "    }\n",
              "\n",
              "    .colab-df-convert {\n",
              "      background-color: #E8F0FE;\n",
              "      border: none;\n",
              "      border-radius: 50%;\n",
              "      cursor: pointer;\n",
              "      display: none;\n",
              "      fill: #1967D2;\n",
              "      height: 32px;\n",
              "      padding: 0 0 0 0;\n",
              "      width: 32px;\n",
              "    }\n",
              "\n",
              "    .colab-df-convert:hover {\n",
              "      background-color: #E2EBFA;\n",
              "      box-shadow: 0px 1px 2px rgba(60, 64, 67, 0.3), 0px 1px 3px 1px rgba(60, 64, 67, 0.15);\n",
              "      fill: #174EA6;\n",
              "    }\n",
              "\n",
              "    [theme=dark] .colab-df-convert {\n",
              "      background-color: #3B4455;\n",
              "      fill: #D2E3FC;\n",
              "    }\n",
              "\n",
              "    [theme=dark] .colab-df-convert:hover {\n",
              "      background-color: #434B5C;\n",
              "      box-shadow: 0px 1px 3px 1px rgba(0, 0, 0, 0.15);\n",
              "      filter: drop-shadow(0px 1px 2px rgba(0, 0, 0, 0.3));\n",
              "      fill: #FFFFFF;\n",
              "    }\n",
              "  </style>\n",
              "\n",
              "      <script>\n",
              "        const buttonEl =\n",
              "          document.querySelector('#df-e623a9f9-743e-4703-8b6b-9d3484388506 button.colab-df-convert');\n",
              "        buttonEl.style.display =\n",
              "          google.colab.kernel.accessAllowed ? 'block' : 'none';\n",
              "\n",
              "        async function convertToInteractive(key) {\n",
              "          const element = document.querySelector('#df-e623a9f9-743e-4703-8b6b-9d3484388506');\n",
              "          const dataTable =\n",
              "            await google.colab.kernel.invokeFunction('convertToInteractive',\n",
              "                                                     [key], {});\n",
              "          if (!dataTable) return;\n",
              "\n",
              "          const docLinkHtml = 'Like what you see? Visit the ' +\n",
              "            '<a target=\"_blank\" href=https://colab.research.google.com/notebooks/data_table.ipynb>data table notebook</a>'\n",
              "            + ' to learn more about interactive tables.';\n",
              "          element.innerHTML = '';\n",
              "          dataTable['output_type'] = 'display_data';\n",
              "          await google.colab.output.renderOutput(dataTable, element);\n",
              "          const docLink = document.createElement('div');\n",
              "          docLink.innerHTML = docLinkHtml;\n",
              "          element.appendChild(docLink);\n",
              "        }\n",
              "      </script>\n",
              "    </div>\n",
              "  </div>\n",
              "  "
            ]
          },
          "metadata": {},
          "execution_count": 38
        }
      ]
    },
    {
      "cell_type": "code",
      "source": [
        "df.dtypes"
      ],
      "metadata": {
        "colab": {
          "base_uri": "https://localhost:8080/"
        },
        "id": "8gSJbvlNIz6S",
        "outputId": "f1adee0d-6c39-4735-f1ef-5bd2a92d18b0"
      },
      "id": "8gSJbvlNIz6S",
      "execution_count": 39,
      "outputs": [
        {
          "output_type": "execute_result",
          "data": {
            "text/plain": [
              "Order ID             object\n",
              "Product              object\n",
              "Quantity Ordered      int64\n",
              "Price Each          float64\n",
              "Order Date           object\n",
              "Purchase Address     object\n",
              "Total               float64\n",
              "Month                 int64\n",
              "City                 object\n",
              "dtype: object"
            ]
          },
          "metadata": {},
          "execution_count": 39
        }
      ]
    },
    {
      "cell_type": "code",
      "source": [
        "def city(address):\n",
        "    return address.split(\",\")[1]\n",
        "    \n",
        "def state(address):\n",
        "    return address.split(\",\")[2].split(\" \")[1]\n",
        "\n",
        "def zipcode(address):\n",
        "    return address.split(\",\")[2].split(\" \")[3]\n",
        "    \n",
        "df['City'] = df['Purchase Address'].apply(lambda x: city(x) + ', ' + state(x))"
      ],
      "metadata": {
        "id": "O2nKyAi5IzwL"
      },
      "id": "O2nKyAi5IzwL",
      "execution_count": 40,
      "outputs": []
    },
    {
      "cell_type": "code",
      "source": [
        "df.head(2)"
      ],
      "metadata": {
        "colab": {
          "base_uri": "https://localhost:8080/",
          "height": 112
        },
        "id": "v0TUApSwJ3LK",
        "outputId": "9011e716-2346-40c2-d6f6-bf1585b0afc1"
      },
      "id": "v0TUApSwJ3LK",
      "execution_count": 41,
      "outputs": [
        {
          "output_type": "execute_result",
          "data": {
            "text/plain": [
              "  Order ID                     Product  Quantity Ordered  Price Each  \\\n",
              "0   176558        USB-C Charging Cable                 2       11.95   \n",
              "1   176559  Bose SoundSport Headphones                 1       99.99   \n",
              "\n",
              "       Order Date                   Purchase Address  Total  Month  \\\n",
              "0  4/19/2019 8:46       917 1st St, Dallas, TX 75001  23.90      4   \n",
              "1  4/7/2019 22:30  682 Chestnut St, Boston, MA 02215  99.99      4   \n",
              "\n",
              "          City  \n",
              "0   Dallas, TX  \n",
              "1   Boston, MA  "
            ],
            "text/html": [
              "\n",
              "  <div id=\"df-cb469856-22b2-4fc4-9d91-d54bd59ce48a\">\n",
              "    <div class=\"colab-df-container\">\n",
              "      <div>\n",
              "<style scoped>\n",
              "    .dataframe tbody tr th:only-of-type {\n",
              "        vertical-align: middle;\n",
              "    }\n",
              "\n",
              "    .dataframe tbody tr th {\n",
              "        vertical-align: top;\n",
              "    }\n",
              "\n",
              "    .dataframe thead th {\n",
              "        text-align: right;\n",
              "    }\n",
              "</style>\n",
              "<table border=\"1\" class=\"dataframe\">\n",
              "  <thead>\n",
              "    <tr style=\"text-align: right;\">\n",
              "      <th></th>\n",
              "      <th>Order ID</th>\n",
              "      <th>Product</th>\n",
              "      <th>Quantity Ordered</th>\n",
              "      <th>Price Each</th>\n",
              "      <th>Order Date</th>\n",
              "      <th>Purchase Address</th>\n",
              "      <th>Total</th>\n",
              "      <th>Month</th>\n",
              "      <th>City</th>\n",
              "    </tr>\n",
              "  </thead>\n",
              "  <tbody>\n",
              "    <tr>\n",
              "      <th>0</th>\n",
              "      <td>176558</td>\n",
              "      <td>USB-C Charging Cable</td>\n",
              "      <td>2</td>\n",
              "      <td>11.95</td>\n",
              "      <td>4/19/2019 8:46</td>\n",
              "      <td>917 1st St, Dallas, TX 75001</td>\n",
              "      <td>23.90</td>\n",
              "      <td>4</td>\n",
              "      <td>Dallas, TX</td>\n",
              "    </tr>\n",
              "    <tr>\n",
              "      <th>1</th>\n",
              "      <td>176559</td>\n",
              "      <td>Bose SoundSport Headphones</td>\n",
              "      <td>1</td>\n",
              "      <td>99.99</td>\n",
              "      <td>4/7/2019 22:30</td>\n",
              "      <td>682 Chestnut St, Boston, MA 02215</td>\n",
              "      <td>99.99</td>\n",
              "      <td>4</td>\n",
              "      <td>Boston, MA</td>\n",
              "    </tr>\n",
              "  </tbody>\n",
              "</table>\n",
              "</div>\n",
              "      <button class=\"colab-df-convert\" onclick=\"convertToInteractive('df-cb469856-22b2-4fc4-9d91-d54bd59ce48a')\"\n",
              "              title=\"Convert this dataframe to an interactive table.\"\n",
              "              style=\"display:none;\">\n",
              "        \n",
              "  <svg xmlns=\"http://www.w3.org/2000/svg\" height=\"24px\"viewBox=\"0 0 24 24\"\n",
              "       width=\"24px\">\n",
              "    <path d=\"M0 0h24v24H0V0z\" fill=\"none\"/>\n",
              "    <path d=\"M18.56 5.44l.94 2.06.94-2.06 2.06-.94-2.06-.94-.94-2.06-.94 2.06-2.06.94zm-11 1L8.5 8.5l.94-2.06 2.06-.94-2.06-.94L8.5 2.5l-.94 2.06-2.06.94zm10 10l.94 2.06.94-2.06 2.06-.94-2.06-.94-.94-2.06-.94 2.06-2.06.94z\"/><path d=\"M17.41 7.96l-1.37-1.37c-.4-.4-.92-.59-1.43-.59-.52 0-1.04.2-1.43.59L10.3 9.45l-7.72 7.72c-.78.78-.78 2.05 0 2.83L4 21.41c.39.39.9.59 1.41.59.51 0 1.02-.2 1.41-.59l7.78-7.78 2.81-2.81c.8-.78.8-2.07 0-2.86zM5.41 20L4 18.59l7.72-7.72 1.47 1.35L5.41 20z\"/>\n",
              "  </svg>\n",
              "      </button>\n",
              "      \n",
              "  <style>\n",
              "    .colab-df-container {\n",
              "      display:flex;\n",
              "      flex-wrap:wrap;\n",
              "      gap: 12px;\n",
              "    }\n",
              "\n",
              "    .colab-df-convert {\n",
              "      background-color: #E8F0FE;\n",
              "      border: none;\n",
              "      border-radius: 50%;\n",
              "      cursor: pointer;\n",
              "      display: none;\n",
              "      fill: #1967D2;\n",
              "      height: 32px;\n",
              "      padding: 0 0 0 0;\n",
              "      width: 32px;\n",
              "    }\n",
              "\n",
              "    .colab-df-convert:hover {\n",
              "      background-color: #E2EBFA;\n",
              "      box-shadow: 0px 1px 2px rgba(60, 64, 67, 0.3), 0px 1px 3px 1px rgba(60, 64, 67, 0.15);\n",
              "      fill: #174EA6;\n",
              "    }\n",
              "\n",
              "    [theme=dark] .colab-df-convert {\n",
              "      background-color: #3B4455;\n",
              "      fill: #D2E3FC;\n",
              "    }\n",
              "\n",
              "    [theme=dark] .colab-df-convert:hover {\n",
              "      background-color: #434B5C;\n",
              "      box-shadow: 0px 1px 3px 1px rgba(0, 0, 0, 0.15);\n",
              "      filter: drop-shadow(0px 1px 2px rgba(0, 0, 0, 0.3));\n",
              "      fill: #FFFFFF;\n",
              "    }\n",
              "  </style>\n",
              "\n",
              "      <script>\n",
              "        const buttonEl =\n",
              "          document.querySelector('#df-cb469856-22b2-4fc4-9d91-d54bd59ce48a button.colab-df-convert');\n",
              "        buttonEl.style.display =\n",
              "          google.colab.kernel.accessAllowed ? 'block' : 'none';\n",
              "\n",
              "        async function convertToInteractive(key) {\n",
              "          const element = document.querySelector('#df-cb469856-22b2-4fc4-9d91-d54bd59ce48a');\n",
              "          const dataTable =\n",
              "            await google.colab.kernel.invokeFunction('convertToInteractive',\n",
              "                                                     [key], {});\n",
              "          if (!dataTable) return;\n",
              "\n",
              "          const docLinkHtml = 'Like what you see? Visit the ' +\n",
              "            '<a target=\"_blank\" href=https://colab.research.google.com/notebooks/data_table.ipynb>data table notebook</a>'\n",
              "            + ' to learn more about interactive tables.';\n",
              "          element.innerHTML = '';\n",
              "          dataTable['output_type'] = 'display_data';\n",
              "          await google.colab.output.renderOutput(dataTable, element);\n",
              "          const docLink = document.createElement('div');\n",
              "          docLink.innerHTML = docLinkHtml;\n",
              "          element.appendChild(docLink);\n",
              "        }\n",
              "      </script>\n",
              "    </div>\n",
              "  </div>\n",
              "  "
            ]
          },
          "metadata": {},
          "execution_count": 41
        }
      ]
    },
    {
      "cell_type": "code",
      "source": [
        "df.groupby('Product').count()['Quantity Ordered'].sort_values(ascending=False)"
      ],
      "metadata": {
        "colab": {
          "base_uri": "https://localhost:8080/"
        },
        "id": "hGxkxPXOKTZG",
        "outputId": "4213aed0-2e9b-4b26-80da-2d7d3c29c165"
      },
      "id": "hGxkxPXOKTZG",
      "execution_count": 42,
      "outputs": [
        {
          "output_type": "execute_result",
          "data": {
            "text/plain": [
              "Product\n",
              "USB-C Charging Cable          21859\n",
              "Lightning Charging Cable      21610\n",
              "AAA Batteries (4-pack)        20612\n",
              "AA Batteries (4-pack)         20558\n",
              "Wired Headphones              18849\n",
              "Apple Airpods Headphones      15525\n",
              "Bose SoundSport Headphones    13298\n",
              "27in FHD Monitor               7498\n",
              "iPhone                         6840\n",
              "27in 4K Gaming Monitor         6225\n",
              "34in Ultrawide Monitor         6174\n",
              "Google Phone                   5522\n",
              "Flatscreen TV                  4794\n",
              "Macbook Pro Laptop             4721\n",
              "ThinkPad Laptop                4126\n",
              "20in Monitor                   4098\n",
              "Vareebadd Phone                2065\n",
              "LG Washing Machine              666\n",
              "LG Dryer                        646\n",
              "Name: Quantity Ordered, dtype: int64"
            ]
          },
          "metadata": {},
          "execution_count": 42
        }
      ]
    },
    {
      "cell_type": "code",
      "source": [
        "# How many unique products are there?\n",
        "\n",
        "df['Product'].nunique()"
      ],
      "metadata": {
        "colab": {
          "base_uri": "https://localhost:8080/"
        },
        "id": "gdgeZJIXKTQh",
        "outputId": "4be74f75-be66-4def-bb60-31c7f4530700"
      },
      "id": "gdgeZJIXKTQh",
      "execution_count": 43,
      "outputs": [
        {
          "output_type": "execute_result",
          "data": {
            "text/plain": [
              "19"
            ]
          },
          "metadata": {},
          "execution_count": 43
        }
      ]
    },
    {
      "cell_type": "code",
      "source": [
        "df_viz = df.groupby('Product').count()['Quantity Ordered'].sort_values()"
      ],
      "metadata": {
        "id": "ogQfqVmtKTOF"
      },
      "id": "ogQfqVmtKTOF",
      "execution_count": 44,
      "outputs": []
    },
    {
      "cell_type": "code",
      "source": [
        "# Best selling product by volume\n",
        "fig, ax = plt.subplots(figsize=(6,8))\n",
        "df_viz.plot(kind = 'barh',ax= ax)\n",
        "ax.set(title = 'Sales Count By Product')\n",
        "ax.title.set(y=1.07)\n",
        "ax.set_xlabel('Total Sold',size=12)\n",
        "ax.set_ylabel('Products',size=12)\n",
        "plt.show()"
      ],
      "metadata": {
        "colab": {
          "base_uri": "https://localhost:8080/",
          "height": 546
        },
        "id": "WAb5jYhEKTLo",
        "outputId": "9e665686-00f6-405e-88ac-15c8664cfa66"
      },
      "id": "WAb5jYhEKTLo",
      "execution_count": 45,
      "outputs": [
        {
          "output_type": "display_data",
          "data": {
            "text/plain": [
              "<Figure size 432x576 with 1 Axes>"
            ],
            "image/png": "[encoded data removed]"
          },
          "metadata": {
            "needs_background": "light"
          }
        }
      ]
    },
    {
      "cell_type": "code",
      "source": [
        "# Best selling product by revenue\n",
        "\n",
        "df.groupby('Product').sum()['Total'].sort_values(ascending=False)"
      ],
      "metadata": {
        "colab": {
          "base_uri": "https://localhost:8080/"
        },
        "id": "ehwMRYypKTJS",
        "outputId": "da2b4a46-4d94-4f05-cb15-c9750b228c7c"
      },
      "id": "ehwMRYypKTJS",
      "execution_count": 46,
      "outputs": [
        {
          "output_type": "execute_result",
          "data": {
            "text/plain": [
              "Product\n",
              "Macbook Pro Laptop            8032500.00\n",
              "iPhone                        4792900.00\n",
              "ThinkPad Laptop               4127958.72\n",
              "Google Phone                  3317400.00\n",
              "27in 4K Gaming Monitor        2433147.61\n",
              "34in Ultrawide Monitor        2352898.08\n",
              "Apple Airpods Headphones      2345550.00\n",
              "Flatscreen TV                 1443900.00\n",
              "Bose SoundSport Headphones    1342865.70\n",
              "27in FHD Monitor              1131074.59\n",
              "Vareebadd Phone                827200.00\n",
              "20in Monitor                   453818.74\n",
              "LG Washing Machine             399600.00\n",
              "LG Dryer                       387600.00\n",
              "Lightning Charging Cable       346376.55\n",
              "USB-C Charging Cable           285975.45\n",
              "Wired Headphones               246082.76\n",
              "AA Batteries (4-pack)          106041.60\n",
              "AAA Batteries (4-pack)          92648.14\n",
              "Name: Total, dtype: float64"
            ]
          },
          "metadata": {},
          "execution_count": 46
        }
      ]
    },
    {
      "cell_type": "code",
      "source": [
        "salesByProduct = df.groupby('Product').sum()['Total'].sort_values()"
      ],
      "metadata": {
        "id": "I3SWN_lqKTGY"
      },
      "id": "I3SWN_lqKTGY",
      "execution_count": 50,
      "outputs": []
    },
    {
      "cell_type": "code",
      "source": [
        "from matplotlib.ticker import FuncFormatter"
      ],
      "metadata": {
        "id": "5fapWO_TuJ5c"
      },
      "id": "5fapWO_TuJ5c",
      "execution_count": 54,
      "outputs": []
    },
    {
      "cell_type": "code",
      "source": [
        "fig, ax = plt.subplots(figsize=(6,8))\n",
        "salesByProduct.plot(kind = 'barh', ax=ax)\n",
        "ax.set(title= 'Sales By Product')\n",
        "ax.title.set(y=1.10)\n",
        "ax.set_xlabel('Total Sales', size=12)\n",
        "ax.set_ylabel('Products', size=12)\n",
        "ax.ticklabel_format(useOffset=False,style='plain',axis='x')\n",
        "labels = ax.get_xticklabels()\n",
        "\n",
        "# define a function to convert scientific notation to shorter value\n",
        "def totalsales(x, pos):\n",
        "    if x >=1e6:\n",
        "        s = '${:1.1f}M'.format(x*1e-6) \n",
        "    else:\n",
        "        s = '${:1.0f}K'.format(x*1e-3) \n",
        "    return s\n",
        "formatter = FuncFormatter(totalsales)\n",
        "\n",
        "ax.xaxis.set_major_formatter(formatter)\n",
        "plt.setp(labels, rotation =0)\n",
        "plt.show()"
      ],
      "metadata": {
        "colab": {
          "base_uri": "https://localhost:8080/",
          "height": 559
        },
        "id": "T1vS8htsOpLw",
        "outputId": "60408992-3b6d-4805-ea11-38a0f80746e1"
      },
      "id": "T1vS8htsOpLw",
      "execution_count": 55,
      "outputs": [
        {
          "output_type": "display_data",
          "data": {
            "text/plain": [
              "<Figure size 432x576 with 1 Axes>"
            ],
            "image/png": "[encoded data removed]"
          },
          "metadata": {
            "needs_background": "light"
          }
        }
      ]
    },
    {
      "cell_type": "code",
      "source": [
        "# City with the highest sales\n",
        "df.groupby('City').sum()['Total'].round()"
      ],
      "metadata": {
        "colab": {
          "base_uri": "https://localhost:8080/"
        },
        "id": "6HgjALgVLIVV",
        "outputId": "54268191-848d-434b-ad28-ebebbf3d8b41"
      },
      "id": "6HgjALgVLIVV",
      "execution_count": 56,
      "outputs": [
        {
          "output_type": "execute_result",
          "data": {
            "text/plain": [
              "City\n",
              " Atlanta, GA          2794199.0\n",
              " Austin, TX           1818044.0\n",
              " Boston, MA           3658628.0\n",
              " Dallas, TX           2765374.0\n",
              " Los Angeles, CA      5448304.0\n",
              " New York City, NY    4661867.0\n",
              " Portland, ME          449321.0\n",
              " Portland, OR         1870011.0\n",
              " San Francisco, CA    8254744.0\n",
              " Seattle, WA          2745046.0\n",
              "Name: Total, dtype: float64"
            ]
          },
          "metadata": {},
          "execution_count": 56
        }
      ]
    },
    {
      "cell_type": "code",
      "source": [
        "citysales = df.groupby('City').sum()['Total'].round()\n",
        "fig, ax = plt.subplots(figsize=(6,4))\n",
        "citysales.plot(kind='bar', ax=ax)\n",
        "ax.set(title= 'Sales By City')\n",
        "ax.title.set(y=1.10)\n",
        "ax.ticklabel_format(useOffset=False,style='plain',axis='y')\n",
        "labels = ax.get_xticklabels()\n",
        "plt.show()"
      ],
      "metadata": {
        "colab": {
          "base_uri": "https://localhost:8080/",
          "height": 399
        },
        "id": "DGVc2V0rLIS5",
        "outputId": "ef14a572-69c6-46f6-e3a6-63050406206e"
      },
      "id": "DGVc2V0rLIS5",
      "execution_count": 58,
      "outputs": [
        {
          "output_type": "display_data",
          "data": {
            "text/plain": [
              "<Figure size 432x288 with 1 Axes>"
            ],
            "image/png": "[encoded data removed]"
          },
          "metadata": {
            "needs_background": "light"
          }
        }
      ]
    },
    {
      "cell_type": "code",
      "source": [
        "df['Order Date'] = pd.to_datetime(df['Order Date'])"
      ],
      "metadata": {
        "id": "E2MKLEOULIQO"
      },
      "id": "E2MKLEOULIQO",
      "execution_count": 59,
      "outputs": []
    },
    {
      "cell_type": "code",
      "source": [
        "# Now we have converted the order date column to datetime data type\n",
        "df.dtypes\n"
      ],
      "metadata": {
        "colab": {
          "base_uri": "https://localhost:8080/"
        },
        "id": "uQheHvcZLINe",
        "outputId": "7d66bff4-e1f9-48e5-bbb6-a7571ebc90aa"
      },
      "id": "uQheHvcZLINe",
      "execution_count": 60,
      "outputs": [
        {
          "output_type": "execute_result",
          "data": {
            "text/plain": [
              "Order ID                    object\n",
              "Product                     object\n",
              "Quantity Ordered             int64\n",
              "Price Each                 float64\n",
              "Order Date          datetime64[ns]\n",
              "Purchase Address            object\n",
              "Total                      float64\n",
              "Month                        int64\n",
              "City                        object\n",
              "dtype: object"
            ]
          },
          "metadata": {},
          "execution_count": 60
        }
      ]
    },
    {
      "cell_type": "code",
      "source": [
        "# Let's see the dataframe again\n",
        "df.head(3)"
      ],
      "metadata": {
        "colab": {
          "base_uri": "https://localhost:8080/",
          "height": 144
        },
        "id": "VYbkzddOLIKq",
        "outputId": "29ab67a3-c21e-4c6a-8435-4dcd7ed653f9"
      },
      "id": "VYbkzddOLIKq",
      "execution_count": 61,
      "outputs": [
        {
          "output_type": "execute_result",
          "data": {
            "text/plain": [
              "  Order ID                     Product  Quantity Ordered  Price Each  \\\n",
              "0   176558        USB-C Charging Cable                 2       11.95   \n",
              "1   176559  Bose SoundSport Headphones                 1       99.99   \n",
              "2   176560                Google Phone                 1      600.00   \n",
              "\n",
              "           Order Date                      Purchase Address   Total  Month  \\\n",
              "0 2019-04-19 08:46:00          917 1st St, Dallas, TX 75001   23.90      4   \n",
              "1 2019-04-07 22:30:00     682 Chestnut St, Boston, MA 02215   99.99      4   \n",
              "2 2019-04-12 14:38:00  669 Spruce St, Los Angeles, CA 90001  600.00      4   \n",
              "\n",
              "               City  \n",
              "0        Dallas, TX  \n",
              "1        Boston, MA  \n",
              "2   Los Angeles, CA  "
            ],
            "text/html": [
              "\n",
              "  <div id=\"df-3e5b3ba1-9f3d-4331-a20d-f1b7bc4bf877\">\n",
              "    <div class=\"colab-df-container\">\n",
              "      <div>\n",
              "<style scoped>\n",
              "    .dataframe tbody tr th:only-of-type {\n",
              "        vertical-align: middle;\n",
              "    }\n",
              "\n",
              "    .dataframe tbody tr th {\n",
              "        vertical-align: top;\n",
              "    }\n",
              "\n",
              "    .dataframe thead th {\n",
              "        text-align: right;\n",
              "    }\n",
              "</style>\n",
              "<table border=\"1\" class=\"dataframe\">\n",
              "  <thead>\n",
              "    <tr style=\"text-align: right;\">\n",
              "      <th></th>\n",
              "      <th>Order ID</th>\n",
              "      <th>Product</th>\n",
              "      <th>Quantity Ordered</th>\n",
              "      <th>Price Each</th>\n",
              "      <th>Order Date</th>\n",
              "      <th>Purchase Address</th>\n",
              "      <th>Total</th>\n",
              "      <th>Month</th>\n",
              "      <th>City</th>\n",
              "    </tr>\n",
              "  </thead>\n",
              "  <tbody>\n",
              "    <tr>\n",
              "      <th>0</th>\n",
              "      <td>176558</td>\n",
              "      <td>USB-C Charging Cable</td>\n",
              "      <td>2</td>\n",
              "      <td>11.95</td>\n",
              "      <td>2019-04-19 08:46:00</td>\n",
              "      <td>917 1st St, Dallas, TX 75001</td>\n",
              "      <td>23.90</td>\n",
              "      <td>4</td>\n",
              "      <td>Dallas, TX</td>\n",
              "    </tr>\n",
              "    <tr>\n",
              "      <th>1</th>\n",
              "      <td>176559</td>\n",
              "      <td>Bose SoundSport Headphones</td>\n",
              "      <td>1</td>\n",
              "      <td>99.99</td>\n",
              "      <td>2019-04-07 22:30:00</td>\n",
              "      <td>682 Chestnut St, Boston, MA 02215</td>\n",
              "      <td>99.99</td>\n",
              "      <td>4</td>\n",
              "      <td>Boston, MA</td>\n",
              "    </tr>\n",
              "    <tr>\n",
              "      <th>2</th>\n",
              "      <td>176560</td>\n",
              "      <td>Google Phone</td>\n",
              "      <td>1</td>\n",
              "      <td>600.00</td>\n",
              "      <td>2019-04-12 14:38:00</td>\n",
              "      <td>669 Spruce St, Los Angeles, CA 90001</td>\n",
              "      <td>600.00</td>\n",
              "      <td>4</td>\n",
              "      <td>Los Angeles, CA</td>\n",
              "    </tr>\n",
              "  </tbody>\n",
              "</table>\n",
              "</div>\n",
              "      <button class=\"colab-df-convert\" onclick=\"convertToInteractive('df-3e5b3ba1-9f3d-4331-a20d-f1b7bc4bf877')\"\n",
              "              title=\"Convert this dataframe to an interactive table.\"\n",
              "              style=\"display:none;\">\n",
              "        \n",
              "  <svg xmlns=\"http://www.w3.org/2000/svg\" height=\"24px\"viewBox=\"0 0 24 24\"\n",
              "       width=\"24px\">\n",
              "    <path d=\"M0 0h24v24H0V0z\" fill=\"none\"/>\n",
              "    <path d=\"M18.56 5.44l.94 2.06.94-2.06 2.06-.94-2.06-.94-.94-2.06-.94 2.06-2.06.94zm-11 1L8.5 8.5l.94-2.06 2.06-.94-2.06-.94L8.5 2.5l-.94 2.06-2.06.94zm10 10l.94 2.06.94-2.06 2.06-.94-2.06-.94-.94-2.06-.94 2.06-2.06.94z\"/><path d=\"M17.41 7.96l-1.37-1.37c-.4-.4-.92-.59-1.43-.59-.52 0-1.04.2-1.43.59L10.3 9.45l-7.72 7.72c-.78.78-.78 2.05 0 2.83L4 21.41c.39.39.9.59 1.41.59.51 0 1.02-.2 1.41-.59l7.78-7.78 2.81-2.81c.8-.78.8-2.07 0-2.86zM5.41 20L4 18.59l7.72-7.72 1.47 1.35L5.41 20z\"/>\n",
              "  </svg>\n",
              "      </button>\n",
              "      \n",
              "  <style>\n",
              "    .colab-df-container {\n",
              "      display:flex;\n",
              "      flex-wrap:wrap;\n",
              "      gap: 12px;\n",
              "    }\n",
              "\n",
              "    .colab-df-convert {\n",
              "      background-color: #E8F0FE;\n",
              "      border: none;\n",
              "      border-radius: 50%;\n",
              "      cursor: pointer;\n",
              "      display: none;\n",
              "      fill: #1967D2;\n",
              "      height: 32px;\n",
              "      padding: 0 0 0 0;\n",
              "      width: 32px;\n",
              "    }\n",
              "\n",
              "    .colab-df-convert:hover {\n",
              "      background-color: #E2EBFA;\n",
              "      box-shadow: 0px 1px 2px rgba(60, 64, 67, 0.3), 0px 1px 3px 1px rgba(60, 64, 67, 0.15);\n",
              "      fill: #174EA6;\n",
              "    }\n",
              "\n",
              "    [theme=dark] .colab-df-convert {\n",
              "      background-color: #3B4455;\n",
              "      fill: #D2E3FC;\n",
              "    }\n",
              "\n",
              "    [theme=dark] .colab-df-convert:hover {\n",
              "      background-color: #434B5C;\n",
              "      box-shadow: 0px 1px 3px 1px rgba(0, 0, 0, 0.15);\n",
              "      filter: drop-shadow(0px 1px 2px rgba(0, 0, 0, 0.3));\n",
              "      fill: #FFFFFF;\n",
              "    }\n",
              "  </style>\n",
              "\n",
              "      <script>\n",
              "        const buttonEl =\n",
              "          document.querySelector('#df-3e5b3ba1-9f3d-4331-a20d-f1b7bc4bf877 button.colab-df-convert');\n",
              "        buttonEl.style.display =\n",
              "          google.colab.kernel.accessAllowed ? 'block' : 'none';\n",
              "\n",
              "        async function convertToInteractive(key) {\n",
              "          const element = document.querySelector('#df-3e5b3ba1-9f3d-4331-a20d-f1b7bc4bf877');\n",
              "          const dataTable =\n",
              "            await google.colab.kernel.invokeFunction('convertToInteractive',\n",
              "                                                     [key], {});\n",
              "          if (!dataTable) return;\n",
              "\n",
              "          const docLinkHtml = 'Like what you see? Visit the ' +\n",
              "            '<a target=\"_blank\" href=https://colab.research.google.com/notebooks/data_table.ipynb>data table notebook</a>'\n",
              "            + ' to learn more about interactive tables.';\n",
              "          element.innerHTML = '';\n",
              "          dataTable['output_type'] = 'display_data';\n",
              "          await google.colab.output.renderOutput(dataTable, element);\n",
              "          const docLink = document.createElement('div');\n",
              "          docLink.innerHTML = docLinkHtml;\n",
              "          element.appendChild(docLink);\n",
              "        }\n",
              "      </script>\n",
              "    </div>\n",
              "  </div>\n",
              "  "
            ]
          },
          "metadata": {},
          "execution_count": 61
        }
      ]
    },
    {
      "cell_type": "code",
      "source": [
        "# Augment relevant columns to have hours and minutes element\n",
        "\n",
        "df['Daytime Hour'] = df['Order Date'].dt.hour\n",
        "df['Daytime Minute'] = df['Order Date'].dt.minute\n",
        "df.head(3)"
      ],
      "metadata": {
        "colab": {
          "base_uri": "https://localhost:8080/",
          "height": 144
        },
        "id": "KpU_XmG1LIIM",
        "outputId": "0fbbfa9e-e57b-4e3f-a4e7-8954215746fd"
      },
      "id": "KpU_XmG1LIIM",
      "execution_count": 62,
      "outputs": [
        {
          "output_type": "execute_result",
          "data": {
            "text/plain": [
              "  Order ID                     Product  Quantity Ordered  Price Each  \\\n",
              "0   176558        USB-C Charging Cable                 2       11.95   \n",
              "1   176559  Bose SoundSport Headphones                 1       99.99   \n",
              "2   176560                Google Phone                 1      600.00   \n",
              "\n",
              "           Order Date                      Purchase Address   Total  Month  \\\n",
              "0 2019-04-19 08:46:00          917 1st St, Dallas, TX 75001   23.90      4   \n",
              "1 2019-04-07 22:30:00     682 Chestnut St, Boston, MA 02215   99.99      4   \n",
              "2 2019-04-12 14:38:00  669 Spruce St, Los Angeles, CA 90001  600.00      4   \n",
              "\n",
              "               City  Daytime Hour  Daytime Minute  \n",
              "0        Dallas, TX             8              46  \n",
              "1        Boston, MA            22              30  \n",
              "2   Los Angeles, CA            14              38  "
            ],
            "text/html": [
              "\n",
              "  <div id=\"df-7c11b2cf-c8e7-4da5-b151-44cf381f1b38\">\n",
              "    <div class=\"colab-df-container\">\n",
              "      <div>\n",
              "<style scoped>\n",
              "    .dataframe tbody tr th:only-of-type {\n",
              "        vertical-align: middle;\n",
              "    }\n",
              "\n",
              "    .dataframe tbody tr th {\n",
              "        vertical-align: top;\n",
              "    }\n",
              "\n",
              "    .dataframe thead th {\n",
              "        text-align: right;\n",
              "    }\n",
              "</style>\n",
              "<table border=\"1\" class=\"dataframe\">\n",
              "  <thead>\n",
              "    <tr style=\"text-align: right;\">\n",
              "      <th></th>\n",
              "      <th>Order ID</th>\n",
              "      <th>Product</th>\n",
              "      <th>Quantity Ordered</th>\n",
              "      <th>Price Each</th>\n",
              "      <th>Order Date</th>\n",
              "      <th>Purchase Address</th>\n",
              "      <th>Total</th>\n",
              "      <th>Month</th>\n",
              "      <th>City</th>\n",
              "      <th>Daytime Hour</th>\n",
              "      <th>Daytime Minute</th>\n",
              "    </tr>\n",
              "  </thead>\n",
              "  <tbody>\n",
              "    <tr>\n",
              "      <th>0</th>\n",
              "      <td>176558</td>\n",
              "      <td>USB-C Charging Cable</td>\n",
              "      <td>2</td>\n",
              "      <td>11.95</td>\n",
              "      <td>2019-04-19 08:46:00</td>\n",
              "      <td>917 1st St, Dallas, TX 75001</td>\n",
              "      <td>23.90</td>\n",
              "      <td>4</td>\n",
              "      <td>Dallas, TX</td>\n",
              "      <td>8</td>\n",
              "      <td>46</td>\n",
              "    </tr>\n",
              "    <tr>\n",
              "      <th>1</th>\n",
              "      <td>176559</td>\n",
              "      <td>Bose SoundSport Headphones</td>\n",
              "      <td>1</td>\n",
              "      <td>99.99</td>\n",
              "      <td>2019-04-07 22:30:00</td>\n",
              "      <td>682 Chestnut St, Boston, MA 02215</td>\n",
              "      <td>99.99</td>\n",
              "      <td>4</td>\n",
              "      <td>Boston, MA</td>\n",
              "      <td>22</td>\n",
              "      <td>30</td>\n",
              "    </tr>\n",
              "    <tr>\n",
              "      <th>2</th>\n",
              "      <td>176560</td>\n",
              "      <td>Google Phone</td>\n",
              "      <td>1</td>\n",
              "      <td>600.00</td>\n",
              "      <td>2019-04-12 14:38:00</td>\n",
              "      <td>669 Spruce St, Los Angeles, CA 90001</td>\n",
              "      <td>600.00</td>\n",
              "      <td>4</td>\n",
              "      <td>Los Angeles, CA</td>\n",
              "      <td>14</td>\n",
              "      <td>38</td>\n",
              "    </tr>\n",
              "  </tbody>\n",
              "</table>\n",
              "</div>\n",
              "      <button class=\"colab-df-convert\" onclick=\"convertToInteractive('df-7c11b2cf-c8e7-4da5-b151-44cf381f1b38')\"\n",
              "              title=\"Convert this dataframe to an interactive table.\"\n",
              "              style=\"display:none;\">\n",
              "        \n",
              "  <svg xmlns=\"http://www.w3.org/2000/svg\" height=\"24px\"viewBox=\"0 0 24 24\"\n",
              "       width=\"24px\">\n",
              "    <path d=\"M0 0h24v24H0V0z\" fill=\"none\"/>\n",
              "    <path d=\"M18.56 5.44l.94 2.06.94-2.06 2.06-.94-2.06-.94-.94-2.06-.94 2.06-2.06.94zm-11 1L8.5 8.5l.94-2.06 2.06-.94-2.06-.94L8.5 2.5l-.94 2.06-2.06.94zm10 10l.94 2.06.94-2.06 2.06-.94-2.06-.94-.94-2.06-.94 2.06-2.06.94z\"/><path d=\"M17.41 7.96l-1.37-1.37c-.4-.4-.92-.59-1.43-.59-.52 0-1.04.2-1.43.59L10.3 9.45l-7.72 7.72c-.78.78-.78 2.05 0 2.83L4 21.41c.39.39.9.59 1.41.59.51 0 1.02-.2 1.41-.59l7.78-7.78 2.81-2.81c.8-.78.8-2.07 0-2.86zM5.41 20L4 18.59l7.72-7.72 1.47 1.35L5.41 20z\"/>\n",
              "  </svg>\n",
              "      </button>\n",
              "      \n",
              "  <style>\n",
              "    .colab-df-container {\n",
              "      display:flex;\n",
              "      flex-wrap:wrap;\n",
              "      gap: 12px;\n",
              "    }\n",
              "\n",
              "    .colab-df-convert {\n",
              "      background-color: #E8F0FE;\n",
              "      border: none;\n",
              "      border-radius: 50%;\n",
              "      cursor: pointer;\n",
              "      display: none;\n",
              "      fill: #1967D2;\n",
              "      height: 32px;\n",
              "      padding: 0 0 0 0;\n",
              "      width: 32px;\n",
              "    }\n",
              "\n",
              "    .colab-df-convert:hover {\n",
              "      background-color: #E2EBFA;\n",
              "      box-shadow: 0px 1px 2px rgba(60, 64, 67, 0.3), 0px 1px 3px 1px rgba(60, 64, 67, 0.15);\n",
              "      fill: #174EA6;\n",
              "    }\n",
              "\n",
              "    [theme=dark] .colab-df-convert {\n",
              "      background-color: #3B4455;\n",
              "      fill: #D2E3FC;\n",
              "    }\n",
              "\n",
              "    [theme=dark] .colab-df-convert:hover {\n",
              "      background-color: #434B5C;\n",
              "      box-shadow: 0px 1px 3px 1px rgba(0, 0, 0, 0.15);\n",
              "      filter: drop-shadow(0px 1px 2px rgba(0, 0, 0, 0.3));\n",
              "      fill: #FFFFFF;\n",
              "    }\n",
              "  </style>\n",
              "\n",
              "      <script>\n",
              "        const buttonEl =\n",
              "          document.querySelector('#df-7c11b2cf-c8e7-4da5-b151-44cf381f1b38 button.colab-df-convert');\n",
              "        buttonEl.style.display =\n",
              "          google.colab.kernel.accessAllowed ? 'block' : 'none';\n",
              "\n",
              "        async function convertToInteractive(key) {\n",
              "          const element = document.querySelector('#df-7c11b2cf-c8e7-4da5-b151-44cf381f1b38');\n",
              "          const dataTable =\n",
              "            await google.colab.kernel.invokeFunction('convertToInteractive',\n",
              "                                                     [key], {});\n",
              "          if (!dataTable) return;\n",
              "\n",
              "          const docLinkHtml = 'Like what you see? Visit the ' +\n",
              "            '<a target=\"_blank\" href=https://colab.research.google.com/notebooks/data_table.ipynb>data table notebook</a>'\n",
              "            + ' to learn more about interactive tables.';\n",
              "          element.innerHTML = '';\n",
              "          dataTable['output_type'] = 'display_data';\n",
              "          await google.colab.output.renderOutput(dataTable, element);\n",
              "          const docLink = document.createElement('div');\n",
              "          docLink.innerHTML = docLinkHtml;\n",
              "          element.appendChild(docLink);\n",
              "        }\n",
              "      </script>\n",
              "    </div>\n",
              "  </div>\n",
              "  "
            ]
          },
          "metadata": {},
          "execution_count": 62
        }
      ]
    },
    {
      "cell_type": "code",
      "source": [
        "# Let's visualize what times the orders came in on average.\n",
        "\n",
        "fig, ax = plt.subplots(figsize=(8,5.2))\n",
        "df.groupby('Daytime Hour').count()['Quantity Ordered'].plot()\n",
        "ax.set(title = 'Timeline of Orders')\n",
        "ax.title.set(y=1.01)\n",
        "ax.set_xlabel('Daytime Hour', size=12)\n",
        "ax.set_ylabel('Quantity Ordered', size=12)\n",
        "labels = df['Daytime Hour'].unique()\n",
        "ax.set_xticks(labels)\n",
        "ax.grid(axis='x')\n",
        "plt.show()"
      ],
      "metadata": {
        "colab": {
          "base_uri": "https://localhost:8080/",
          "height": 366
        },
        "id": "Js0ie05ZLIFr",
        "outputId": "2ab0c6b0-47b5-4e1d-d8d9-02d62fa184e9"
      },
      "id": "Js0ie05ZLIFr",
      "execution_count": 63,
      "outputs": [
        {
          "output_type": "display_data",
          "data": {
            "text/plain": [
              "<Figure size 576x374.4 with 1 Axes>"
            ],
            "image/png": "[encoded data removed]"
          },
          "metadata": {
            "needs_background": "light"
          }
        }
      ]
    },
    {
      "cell_type": "code",
      "source": [
        "# Let's then see which products were ordered together most often\n",
        "# How do I know that products were ordered together? \n",
        "#If you see the dataframe below, you can see that some ORDER ID are repeated for different products. \n",
        "df.head()"
      ],
      "metadata": {
        "colab": {
          "base_uri": "https://localhost:8080/",
          "height": 206
        },
        "id": "Y3aOb8p3LICZ",
        "outputId": "6aed4520-4e8f-45ec-85b7-cd9c4010d151"
      },
      "id": "Y3aOb8p3LICZ",
      "execution_count": 64,
      "outputs": [
        {
          "output_type": "execute_result",
          "data": {
            "text/plain": [
              "  Order ID                     Product  Quantity Ordered  Price Each  \\\n",
              "0   176558        USB-C Charging Cable                 2       11.95   \n",
              "1   176559  Bose SoundSport Headphones                 1       99.99   \n",
              "2   176560                Google Phone                 1      600.00   \n",
              "3   176560            Wired Headphones                 1       11.99   \n",
              "4   176561            Wired Headphones                 1       11.99   \n",
              "\n",
              "           Order Date                      Purchase Address   Total  Month  \\\n",
              "0 2019-04-19 08:46:00          917 1st St, Dallas, TX 75001   23.90      4   \n",
              "1 2019-04-07 22:30:00     682 Chestnut St, Boston, MA 02215   99.99      4   \n",
              "2 2019-04-12 14:38:00  669 Spruce St, Los Angeles, CA 90001  600.00      4   \n",
              "3 2019-04-12 14:38:00  669 Spruce St, Los Angeles, CA 90001   11.99      4   \n",
              "4 2019-04-30 09:27:00     333 8th St, Los Angeles, CA 90001   11.99      4   \n",
              "\n",
              "               City  Daytime Hour  Daytime Minute  \n",
              "0        Dallas, TX             8              46  \n",
              "1        Boston, MA            22              30  \n",
              "2   Los Angeles, CA            14              38  \n",
              "3   Los Angeles, CA            14              38  \n",
              "4   Los Angeles, CA             9              27  "
            ],
            "text/html": [
              "\n",
              "  <div id=\"df-45d05405-ad45-44ec-836c-704a22e9c1d6\">\n",
              "    <div class=\"colab-df-container\">\n",
              "      <div>\n",
              "<style scoped>\n",
              "    .dataframe tbody tr th:only-of-type {\n",
              "        vertical-align: middle;\n",
              "    }\n",
              "\n",
              "    .dataframe tbody tr th {\n",
              "        vertical-align: top;\n",
              "    }\n",
              "\n",
              "    .dataframe thead th {\n",
              "        text-align: right;\n",
              "    }\n",
              "</style>\n",
              "<table border=\"1\" class=\"dataframe\">\n",
              "  <thead>\n",
              "    <tr style=\"text-align: right;\">\n",
              "      <th></th>\n",
              "      <th>Order ID</th>\n",
              "      <th>Product</th>\n",
              "      <th>Quantity Ordered</th>\n",
              "      <th>Price Each</th>\n",
              "      <th>Order Date</th>\n",
              "      <th>Purchase Address</th>\n",
              "      <th>Total</th>\n",
              "      <th>Month</th>\n",
              "      <th>City</th>\n",
              "      <th>Daytime Hour</th>\n",
              "      <th>Daytime Minute</th>\n",
              "    </tr>\n",
              "  </thead>\n",
              "  <tbody>\n",
              "    <tr>\n",
              "      <th>0</th>\n",
              "      <td>176558</td>\n",
              "      <td>USB-C Charging Cable</td>\n",
              "      <td>2</td>\n",
              "      <td>11.95</td>\n",
              "      <td>2019-04-19 08:46:00</td>\n",
              "      <td>917 1st St, Dallas, TX 75001</td>\n",
              "      <td>23.90</td>\n",
              "      <td>4</td>\n",
              "      <td>Dallas, TX</td>\n",
              "      <td>8</td>\n",
              "      <td>46</td>\n",
              "    </tr>\n",
              "    <tr>\n",
              "      <th>1</th>\n",
              "      <td>176559</td>\n",
              "      <td>Bose SoundSport Headphones</td>\n",
              "      <td>1</td>\n",
              "      <td>99.99</td>\n",
              "      <td>2019-04-07 22:30:00</td>\n",
              "      <td>682 Chestnut St, Boston, MA 02215</td>\n",
              "      <td>99.99</td>\n",
              "      <td>4</td>\n",
              "      <td>Boston, MA</td>\n",
              "      <td>22</td>\n",
              "      <td>30</td>\n",
              "    </tr>\n",
              "    <tr>\n",
              "      <th>2</th>\n",
              "      <td>176560</td>\n",
              "      <td>Google Phone</td>\n",
              "      <td>1</td>\n",
              "      <td>600.00</td>\n",
              "      <td>2019-04-12 14:38:00</td>\n",
              "      <td>669 Spruce St, Los Angeles, CA 90001</td>\n",
              "      <td>600.00</td>\n",
              "      <td>4</td>\n",
              "      <td>Los Angeles, CA</td>\n",
              "      <td>14</td>\n",
              "      <td>38</td>\n",
              "    </tr>\n",
              "    <tr>\n",
              "      <th>3</th>\n",
              "      <td>176560</td>\n",
              "      <td>Wired Headphones</td>\n",
              "      <td>1</td>\n",
              "      <td>11.99</td>\n",
              "      <td>2019-04-12 14:38:00</td>\n",
              "      <td>669 Spruce St, Los Angeles, CA 90001</td>\n",
              "      <td>11.99</td>\n",
              "      <td>4</td>\n",
              "      <td>Los Angeles, CA</td>\n",
              "      <td>14</td>\n",
              "      <td>38</td>\n",
              "    </tr>\n",
              "    <tr>\n",
              "      <th>4</th>\n",
              "      <td>176561</td>\n",
              "      <td>Wired Headphones</td>\n",
              "      <td>1</td>\n",
              "      <td>11.99</td>\n",
              "      <td>2019-04-30 09:27:00</td>\n",
              "      <td>333 8th St, Los Angeles, CA 90001</td>\n",
              "      <td>11.99</td>\n",
              "      <td>4</td>\n",
              "      <td>Los Angeles, CA</td>\n",
              "      <td>9</td>\n",
              "      <td>27</td>\n",
              "    </tr>\n",
              "  </tbody>\n",
              "</table>\n",
              "</div>\n",
              "      <button class=\"colab-df-convert\" onclick=\"convertToInteractive('df-45d05405-ad45-44ec-836c-704a22e9c1d6')\"\n",
              "              title=\"Convert this dataframe to an interactive table.\"\n",
              "              style=\"display:none;\">\n",
              "        \n",
              "  <svg xmlns=\"http://www.w3.org/2000/svg\" height=\"24px\"viewBox=\"0 0 24 24\"\n",
              "       width=\"24px\">\n",
              "    <path d=\"M0 0h24v24H0V0z\" fill=\"none\"/>\n",
              "    <path d=\"M18.56 5.44l.94 2.06.94-2.06 2.06-.94-2.06-.94-.94-2.06-.94 2.06-2.06.94zm-11 1L8.5 8.5l.94-2.06 2.06-.94-2.06-.94L8.5 2.5l-.94 2.06-2.06.94zm10 10l.94 2.06.94-2.06 2.06-.94-2.06-.94-.94-2.06-.94 2.06-2.06.94z\"/><path d=\"M17.41 7.96l-1.37-1.37c-.4-.4-.92-.59-1.43-.59-.52 0-1.04.2-1.43.59L10.3 9.45l-7.72 7.72c-.78.78-.78 2.05 0 2.83L4 21.41c.39.39.9.59 1.41.59.51 0 1.02-.2 1.41-.59l7.78-7.78 2.81-2.81c.8-.78.8-2.07 0-2.86zM5.41 20L4 18.59l7.72-7.72 1.47 1.35L5.41 20z\"/>\n",
              "  </svg>\n",
              "      </button>\n",
              "      \n",
              "  <style>\n",
              "    .colab-df-container {\n",
              "      display:flex;\n",
              "      flex-wrap:wrap;\n",
              "      gap: 12px;\n",
              "    }\n",
              "\n",
              "    .colab-df-convert {\n",
              "      background-color: #E8F0FE;\n",
              "      border: none;\n",
              "      border-radius: 50%;\n",
              "      cursor: pointer;\n",
              "      display: none;\n",
              "      fill: #1967D2;\n",
              "      height: 32px;\n",
              "      padding: 0 0 0 0;\n",
              "      width: 32px;\n",
              "    }\n",
              "\n",
              "    .colab-df-convert:hover {\n",
              "      background-color: #E2EBFA;\n",
              "      box-shadow: 0px 1px 2px rgba(60, 64, 67, 0.3), 0px 1px 3px 1px rgba(60, 64, 67, 0.15);\n",
              "      fill: #174EA6;\n",
              "    }\n",
              "\n",
              "    [theme=dark] .colab-df-convert {\n",
              "      background-color: #3B4455;\n",
              "      fill: #D2E3FC;\n",
              "    }\n",
              "\n",
              "    [theme=dark] .colab-df-convert:hover {\n",
              "      background-color: #434B5C;\n",
              "      box-shadow: 0px 1px 3px 1px rgba(0, 0, 0, 0.15);\n",
              "      filter: drop-shadow(0px 1px 2px rgba(0, 0, 0, 0.3));\n",
              "      fill: #FFFFFF;\n",
              "    }\n",
              "  </style>\n",
              "\n",
              "      <script>\n",
              "        const buttonEl =\n",
              "          document.querySelector('#df-45d05405-ad45-44ec-836c-704a22e9c1d6 button.colab-df-convert');\n",
              "        buttonEl.style.display =\n",
              "          google.colab.kernel.accessAllowed ? 'block' : 'none';\n",
              "\n",
              "        async function convertToInteractive(key) {\n",
              "          const element = document.querySelector('#df-45d05405-ad45-44ec-836c-704a22e9c1d6');\n",
              "          const dataTable =\n",
              "            await google.colab.kernel.invokeFunction('convertToInteractive',\n",
              "                                                     [key], {});\n",
              "          if (!dataTable) return;\n",
              "\n",
              "          const docLinkHtml = 'Like what you see? Visit the ' +\n",
              "            '<a target=\"_blank\" href=https://colab.research.google.com/notebooks/data_table.ipynb>data table notebook</a>'\n",
              "            + ' to learn more about interactive tables.';\n",
              "          element.innerHTML = '';\n",
              "          dataTable['output_type'] = 'display_data';\n",
              "          await google.colab.output.renderOutput(dataTable, element);\n",
              "          const docLink = document.createElement('div');\n",
              "          docLink.innerHTML = docLinkHtml;\n",
              "          element.appendChild(docLink);\n",
              "        }\n",
              "      </script>\n",
              "    </div>\n",
              "  </div>\n",
              "  "
            ]
          },
          "metadata": {},
          "execution_count": 64
        }
      ]
    },
    {
      "cell_type": "code",
      "source": [
        "# What products were bought together most?\n",
        "\n",
        "repeated_orders = df[df['Order ID'].duplicated(keep=False)]\n",
        "repeated_orders['Bought Together'] = repeated_orders.groupby('Order ID')['Product'].transform(lambda x: \",\".join(x))\n",
        "#repeated_orders = repeated_orders[['Order ID', 'Bought Together']]\n",
        "repeated_orders = repeated_orders[['Order ID', 'Bought Together']].drop_duplicates()\n",
        "repeated_orders.head(10)"
      ],
      "metadata": {
        "colab": {
          "base_uri": "https://localhost:8080/",
          "height": 363
        },
        "id": "vMY1e3D3LH_P",
        "outputId": "affacd7a-0e5d-423e-9dc9-213b1e9e2dbd"
      },
      "id": "vMY1e3D3LH_P",
      "execution_count": 65,
      "outputs": [
        {
          "output_type": "execute_result",
          "data": {
            "text/plain": [
              "    Order ID                                    Bought Together\n",
              "2     176560                      Google Phone,Wired Headphones\n",
              "17    176574                  Google Phone,USB-C Charging Cable\n",
              "30    176586                AAA Batteries (4-pack),Google Phone\n",
              "117   176672      Lightning Charging Cable,USB-C Charging Cable\n",
              "127   176681           Apple Airpods Headphones,ThinkPad Laptop\n",
              "136   176689  Bose SoundSport Headphones,AAA Batteries (4-pack)\n",
              "187   176739                34in Ultrawide Monitor,Google Phone\n",
              "223   176774      Lightning Charging Cable,USB-C Charging Cable\n",
              "231   176781                    iPhone,Lightning Charging Cable\n",
              "248   176797  Google Phone,Bose SoundSport Headphones,Wired ..."
            ],
            "text/html": [
              "\n",
              "  <div id=\"df-abeccb8a-bb37-4774-b765-49fa4eb3dc09\">\n",
              "    <div class=\"colab-df-container\">\n",
              "      <div>\n",
              "<style scoped>\n",
              "    .dataframe tbody tr th:only-of-type {\n",
              "        vertical-align: middle;\n",
              "    }\n",
              "\n",
              "    .dataframe tbody tr th {\n",
              "        vertical-align: top;\n",
              "    }\n",
              "\n",
              "    .dataframe thead th {\n",
              "        text-align: right;\n",
              "    }\n",
              "</style>\n",
              "<table border=\"1\" class=\"dataframe\">\n",
              "  <thead>\n",
              "    <tr style=\"text-align: right;\">\n",
              "      <th></th>\n",
              "      <th>Order ID</th>\n",
              "      <th>Bought Together</th>\n",
              "    </tr>\n",
              "  </thead>\n",
              "  <tbody>\n",
              "    <tr>\n",
              "      <th>2</th>\n",
              "      <td>176560</td>\n",
              "      <td>Google Phone,Wired Headphones</td>\n",
              "    </tr>\n",
              "    <tr>\n",
              "      <th>17</th>\n",
              "      <td>176574</td>\n",
              "      <td>Google Phone,USB-C Charging Cable</td>\n",
              "    </tr>\n",
              "    <tr>\n",
              "      <th>30</th>\n",
              "      <td>176586</td>\n",
              "      <td>AAA Batteries (4-pack),Google Phone</td>\n",
              "    </tr>\n",
              "    <tr>\n",
              "      <th>117</th>\n",
              "      <td>176672</td>\n",
              "      <td>Lightning Charging Cable,USB-C Charging Cable</td>\n",
              "    </tr>\n",
              "    <tr>\n",
              "      <th>127</th>\n",
              "      <td>176681</td>\n",
              "      <td>Apple Airpods Headphones,ThinkPad Laptop</td>\n",
              "    </tr>\n",
              "    <tr>\n",
              "      <th>136</th>\n",
              "      <td>176689</td>\n",
              "      <td>Bose SoundSport Headphones,AAA Batteries (4-pack)</td>\n",
              "    </tr>\n",
              "    <tr>\n",
              "      <th>187</th>\n",
              "      <td>176739</td>\n",
              "      <td>34in Ultrawide Monitor,Google Phone</td>\n",
              "    </tr>\n",
              "    <tr>\n",
              "      <th>223</th>\n",
              "      <td>176774</td>\n",
              "      <td>Lightning Charging Cable,USB-C Charging Cable</td>\n",
              "    </tr>\n",
              "    <tr>\n",
              "      <th>231</th>\n",
              "      <td>176781</td>\n",
              "      <td>iPhone,Lightning Charging Cable</td>\n",
              "    </tr>\n",
              "    <tr>\n",
              "      <th>248</th>\n",
              "      <td>176797</td>\n",
              "      <td>Google Phone,Bose SoundSport Headphones,Wired ...</td>\n",
              "    </tr>\n",
              "  </tbody>\n",
              "</table>\n",
              "</div>\n",
              "      <button class=\"colab-df-convert\" onclick=\"convertToInteractive('df-abeccb8a-bb37-4774-b765-49fa4eb3dc09')\"\n",
              "              title=\"Convert this dataframe to an interactive table.\"\n",
              "              style=\"display:none;\">\n",
              "        \n",
              "  <svg xmlns=\"http://www.w3.org/2000/svg\" height=\"24px\"viewBox=\"0 0 24 24\"\n",
              "       width=\"24px\">\n",
              "    <path d=\"M0 0h24v24H0V0z\" fill=\"none\"/>\n",
              "    <path d=\"M18.56 5.44l.94 2.06.94-2.06 2.06-.94-2.06-.94-.94-2.06-.94 2.06-2.06.94zm-11 1L8.5 8.5l.94-2.06 2.06-.94-2.06-.94L8.5 2.5l-.94 2.06-2.06.94zm10 10l.94 2.06.94-2.06 2.06-.94-2.06-.94-.94-2.06-.94 2.06-2.06.94z\"/><path d=\"M17.41 7.96l-1.37-1.37c-.4-.4-.92-.59-1.43-.59-.52 0-1.04.2-1.43.59L10.3 9.45l-7.72 7.72c-.78.78-.78 2.05 0 2.83L4 21.41c.39.39.9.59 1.41.59.51 0 1.02-.2 1.41-.59l7.78-7.78 2.81-2.81c.8-.78.8-2.07 0-2.86zM5.41 20L4 18.59l7.72-7.72 1.47 1.35L5.41 20z\"/>\n",
              "  </svg>\n",
              "      </button>\n",
              "      \n",
              "  <style>\n",
              "    .colab-df-container {\n",
              "      display:flex;\n",
              "      flex-wrap:wrap;\n",
              "      gap: 12px;\n",
              "    }\n",
              "\n",
              "    .colab-df-convert {\n",
              "      background-color: #E8F0FE;\n",
              "      border: none;\n",
              "      border-radius: 50%;\n",
              "      cursor: pointer;\n",
              "      display: none;\n",
              "      fill: #1967D2;\n",
              "      height: 32px;\n",
              "      padding: 0 0 0 0;\n",
              "      width: 32px;\n",
              "    }\n",
              "\n",
              "    .colab-df-convert:hover {\n",
              "      background-color: #E2EBFA;\n",
              "      box-shadow: 0px 1px 2px rgba(60, 64, 67, 0.3), 0px 1px 3px 1px rgba(60, 64, 67, 0.15);\n",
              "      fill: #174EA6;\n",
              "    }\n",
              "\n",
              "    [theme=dark] .colab-df-convert {\n",
              "      background-color: #3B4455;\n",
              "      fill: #D2E3FC;\n",
              "    }\n",
              "\n",
              "    [theme=dark] .colab-df-convert:hover {\n",
              "      background-color: #434B5C;\n",
              "      box-shadow: 0px 1px 3px 1px rgba(0, 0, 0, 0.15);\n",
              "      filter: drop-shadow(0px 1px 2px rgba(0, 0, 0, 0.3));\n",
              "      fill: #FFFFFF;\n",
              "    }\n",
              "  </style>\n",
              "\n",
              "      <script>\n",
              "        const buttonEl =\n",
              "          document.querySelector('#df-abeccb8a-bb37-4774-b765-49fa4eb3dc09 button.colab-df-convert');\n",
              "        buttonEl.style.display =\n",
              "          google.colab.kernel.accessAllowed ? 'block' : 'none';\n",
              "\n",
              "        async function convertToInteractive(key) {\n",
              "          const element = document.querySelector('#df-abeccb8a-bb37-4774-b765-49fa4eb3dc09');\n",
              "          const dataTable =\n",
              "            await google.colab.kernel.invokeFunction('convertToInteractive',\n",
              "                                                     [key], {});\n",
              "          if (!dataTable) return;\n",
              "\n",
              "          const docLinkHtml = 'Like what you see? Visit the ' +\n",
              "            '<a target=\"_blank\" href=https://colab.research.google.com/notebooks/data_table.ipynb>data table notebook</a>'\n",
              "            + ' to learn more about interactive tables.';\n",
              "          element.innerHTML = '';\n",
              "          dataTable['output_type'] = 'display_data';\n",
              "          await google.colab.output.renderOutput(dataTable, element);\n",
              "          const docLink = document.createElement('div');\n",
              "          docLink.innerHTML = docLinkHtml;\n",
              "          element.appendChild(docLink);\n",
              "        }\n",
              "      </script>\n",
              "    </div>\n",
              "  </div>\n",
              "  "
            ]
          },
          "metadata": {},
          "execution_count": 65
        }
      ]
    },
    {
      "cell_type": "code",
      "source": [
        "# continuation of the operation from last cell\n",
        "\n",
        "count = Counter()\n",
        "for row in repeated_orders['Bought Together']:\n",
        "    row_list = row.split(',')\n",
        "    count.update(Counter(combinations(row_list, 2)))\n",
        "    \n",
        "for most_common, number_sold in count.most_common(10):\n",
        "    print(most_common, number_sold)"
      ],
      "metadata": {
        "colab": {
          "base_uri": "https://localhost:8080/"
        },
        "id": "cTXiXOW8LH8W",
        "outputId": "6e8f8516-eef1-4d75-c8fd-8c1e9121e3cc"
      },
      "id": "cTXiXOW8LH8W",
      "execution_count": 66,
      "outputs": [
        {
          "output_type": "stream",
          "name": "stdout",
          "text": [
            "('iPhone', 'Lightning Charging Cable') 1002\n",
            "('Google Phone', 'USB-C Charging Cable') 985\n",
            "('iPhone', 'Wired Headphones') 447\n",
            "('Google Phone', 'Wired Headphones') 413\n",
            "('Vareebadd Phone', 'USB-C Charging Cable') 361\n",
            "('iPhone', 'Apple Airpods Headphones') 360\n",
            "('Google Phone', 'Bose SoundSport Headphones') 220\n",
            "('USB-C Charging Cable', 'Wired Headphones') 159\n",
            "('Vareebadd Phone', 'Wired Headphones') 143\n",
            "('Lightning Charging Cable', 'Wired Headphones') 92\n"
          ]
        }
      ]
    },
    {
      "cell_type": "code",
      "source": [
        "count = Counter()\n",
        "for row in repeated_orders['Bought Together']:\n",
        "    row_list = row.split(',')\n",
        "    count.update(Counter(combinations(row_list, 3)))\n",
        "    \n",
        "for most_common, number_sold in count.most_common(10):\n",
        "    print(most_common, number_sold)"
      ],
      "metadata": {
        "colab": {
          "base_uri": "https://localhost:8080/"
        },
        "id": "jPUzs3YaMLfK",
        "outputId": "c83e9ae6-cf3b-4702-f879-6573b3395a33"
      },
      "id": "jPUzs3YaMLfK",
      "execution_count": 67,
      "outputs": [
        {
          "output_type": "stream",
          "name": "stdout",
          "text": [
            "('Google Phone', 'USB-C Charging Cable', 'Wired Headphones') 86\n",
            "('iPhone', 'Lightning Charging Cable', 'Wired Headphones') 62\n",
            "('iPhone', 'Lightning Charging Cable', 'Apple Airpods Headphones') 47\n",
            "('Google Phone', 'USB-C Charging Cable', 'Bose SoundSport Headphones') 35\n",
            "('Vareebadd Phone', 'USB-C Charging Cable', 'Wired Headphones') 33\n",
            "('iPhone', 'Apple Airpods Headphones', 'Wired Headphones') 27\n",
            "('Google Phone', 'Bose SoundSport Headphones', 'Wired Headphones') 24\n",
            "('Vareebadd Phone', 'USB-C Charging Cable', 'Bose SoundSport Headphones') 16\n",
            "('USB-C Charging Cable', 'Bose SoundSport Headphones', 'Wired Headphones') 5\n",
            "('Vareebadd Phone', 'Bose SoundSport Headphones', 'Wired Headphones') 5\n"
          ]
        }
      ]
    },
    {
      "cell_type": "code",
      "source": [
        "df.head()"
      ],
      "metadata": {
        "colab": {
          "base_uri": "https://localhost:8080/",
          "height": 206
        },
        "id": "GH-3HTJQXIt4",
        "outputId": "1a8b0c7b-9114-4019-d4a8-16b19894a408"
      },
      "id": "GH-3HTJQXIt4",
      "execution_count": 73,
      "outputs": [
        {
          "output_type": "execute_result",
          "data": {
            "text/plain": [
              "  Order ID                     Product  Quantity Ordered  Price Each  \\\n",
              "0   176558        USB-C Charging Cable                 2       11.95   \n",
              "1   176559  Bose SoundSport Headphones                 1       99.99   \n",
              "2   176560                Google Phone                 1      600.00   \n",
              "3   176560            Wired Headphones                 1       11.99   \n",
              "4   176561            Wired Headphones                 1       11.99   \n",
              "\n",
              "           Order Date                      Purchase Address   Total  Month  \\\n",
              "0 2019-04-19 08:46:00          917 1st St, Dallas, TX 75001   23.90      4   \n",
              "1 2019-04-07 22:30:00     682 Chestnut St, Boston, MA 02215   99.99      4   \n",
              "2 2019-04-12 14:38:00  669 Spruce St, Los Angeles, CA 90001  600.00      4   \n",
              "3 2019-04-12 14:38:00  669 Spruce St, Los Angeles, CA 90001   11.99      4   \n",
              "4 2019-04-30 09:27:00     333 8th St, Los Angeles, CA 90001   11.99      4   \n",
              "\n",
              "               City  Daytime Hour  Daytime Minute  \n",
              "0        Dallas, TX             8              46  \n",
              "1        Boston, MA            22              30  \n",
              "2   Los Angeles, CA            14              38  \n",
              "3   Los Angeles, CA            14              38  \n",
              "4   Los Angeles, CA             9              27  "
            ],
            "text/html": [
              "\n",
              "  <div id=\"df-a7aaa1bf-2aca-431d-bf78-a399af9c9bd1\">\n",
              "    <div class=\"colab-df-container\">\n",
              "      <div>\n",
              "<style scoped>\n",
              "    .dataframe tbody tr th:only-of-type {\n",
              "        vertical-align: middle;\n",
              "    }\n",
              "\n",
              "    .dataframe tbody tr th {\n",
              "        vertical-align: top;\n",
              "    }\n",
              "\n",
              "    .dataframe thead th {\n",
              "        text-align: right;\n",
              "    }\n",
              "</style>\n",
              "<table border=\"1\" class=\"dataframe\">\n",
              "  <thead>\n",
              "    <tr style=\"text-align: right;\">\n",
              "      <th></th>\n",
              "      <th>Order ID</th>\n",
              "      <th>Product</th>\n",
              "      <th>Quantity Ordered</th>\n",
              "      <th>Price Each</th>\n",
              "      <th>Order Date</th>\n",
              "      <th>Purchase Address</th>\n",
              "      <th>Total</th>\n",
              "      <th>Month</th>\n",
              "      <th>City</th>\n",
              "      <th>Daytime Hour</th>\n",
              "      <th>Daytime Minute</th>\n",
              "    </tr>\n",
              "  </thead>\n",
              "  <tbody>\n",
              "    <tr>\n",
              "      <th>0</th>\n",
              "      <td>176558</td>\n",
              "      <td>USB-C Charging Cable</td>\n",
              "      <td>2</td>\n",
              "      <td>11.95</td>\n",
              "      <td>2019-04-19 08:46:00</td>\n",
              "      <td>917 1st St, Dallas, TX 75001</td>\n",
              "      <td>23.90</td>\n",
              "      <td>4</td>\n",
              "      <td>Dallas, TX</td>\n",
              "      <td>8</td>\n",
              "      <td>46</td>\n",
              "    </tr>\n",
              "    <tr>\n",
              "      <th>1</th>\n",
              "      <td>176559</td>\n",
              "      <td>Bose SoundSport Headphones</td>\n",
              "      <td>1</td>\n",
              "      <td>99.99</td>\n",
              "      <td>2019-04-07 22:30:00</td>\n",
              "      <td>682 Chestnut St, Boston, MA 02215</td>\n",
              "      <td>99.99</td>\n",
              "      <td>4</td>\n",
              "      <td>Boston, MA</td>\n",
              "      <td>22</td>\n",
              "      <td>30</td>\n",
              "    </tr>\n",
              "    <tr>\n",
              "      <th>2</th>\n",
              "      <td>176560</td>\n",
              "      <td>Google Phone</td>\n",
              "      <td>1</td>\n",
              "      <td>600.00</td>\n",
              "      <td>2019-04-12 14:38:00</td>\n",
              "      <td>669 Spruce St, Los Angeles, CA 90001</td>\n",
              "      <td>600.00</td>\n",
              "      <td>4</td>\n",
              "      <td>Los Angeles, CA</td>\n",
              "      <td>14</td>\n",
              "      <td>38</td>\n",
              "    </tr>\n",
              "    <tr>\n",
              "      <th>3</th>\n",
              "      <td>176560</td>\n",
              "      <td>Wired Headphones</td>\n",
              "      <td>1</td>\n",
              "      <td>11.99</td>\n",
              "      <td>2019-04-12 14:38:00</td>\n",
              "      <td>669 Spruce St, Los Angeles, CA 90001</td>\n",
              "      <td>11.99</td>\n",
              "      <td>4</td>\n",
              "      <td>Los Angeles, CA</td>\n",
              "      <td>14</td>\n",
              "      <td>38</td>\n",
              "    </tr>\n",
              "    <tr>\n",
              "      <th>4</th>\n",
              "      <td>176561</td>\n",
              "      <td>Wired Headphones</td>\n",
              "      <td>1</td>\n",
              "      <td>11.99</td>\n",
              "      <td>2019-04-30 09:27:00</td>\n",
              "      <td>333 8th St, Los Angeles, CA 90001</td>\n",
              "      <td>11.99</td>\n",
              "      <td>4</td>\n",
              "      <td>Los Angeles, CA</td>\n",
              "      <td>9</td>\n",
              "      <td>27</td>\n",
              "    </tr>\n",
              "  </tbody>\n",
              "</table>\n",
              "</div>\n",
              "      <button class=\"colab-df-convert\" onclick=\"convertToInteractive('df-a7aaa1bf-2aca-431d-bf78-a399af9c9bd1')\"\n",
              "              title=\"Convert this dataframe to an interactive table.\"\n",
              "              style=\"display:none;\">\n",
              "        \n",
              "  <svg xmlns=\"http://www.w3.org/2000/svg\" height=\"24px\"viewBox=\"0 0 24 24\"\n",
              "       width=\"24px\">\n",
              "    <path d=\"M0 0h24v24H0V0z\" fill=\"none\"/>\n",
              "    <path d=\"M18.56 5.44l.94 2.06.94-2.06 2.06-.94-2.06-.94-.94-2.06-.94 2.06-2.06.94zm-11 1L8.5 8.5l.94-2.06 2.06-.94-2.06-.94L8.5 2.5l-.94 2.06-2.06.94zm10 10l.94 2.06.94-2.06 2.06-.94-2.06-.94-.94-2.06-.94 2.06-2.06.94z\"/><path d=\"M17.41 7.96l-1.37-1.37c-.4-.4-.92-.59-1.43-.59-.52 0-1.04.2-1.43.59L10.3 9.45l-7.72 7.72c-.78.78-.78 2.05 0 2.83L4 21.41c.39.39.9.59 1.41.59.51 0 1.02-.2 1.41-.59l7.78-7.78 2.81-2.81c.8-.78.8-2.07 0-2.86zM5.41 20L4 18.59l7.72-7.72 1.47 1.35L5.41 20z\"/>\n",
              "  </svg>\n",
              "      </button>\n",
              "      \n",
              "  <style>\n",
              "    .colab-df-container {\n",
              "      display:flex;\n",
              "      flex-wrap:wrap;\n",
              "      gap: 12px;\n",
              "    }\n",
              "\n",
              "    .colab-df-convert {\n",
              "      background-color: #E8F0FE;\n",
              "      border: none;\n",
              "      border-radius: 50%;\n",
              "      cursor: pointer;\n",
              "      display: none;\n",
              "      fill: #1967D2;\n",
              "      height: 32px;\n",
              "      padding: 0 0 0 0;\n",
              "      width: 32px;\n",
              "    }\n",
              "\n",
              "    .colab-df-convert:hover {\n",
              "      background-color: #E2EBFA;\n",
              "      box-shadow: 0px 1px 2px rgba(60, 64, 67, 0.3), 0px 1px 3px 1px rgba(60, 64, 67, 0.15);\n",
              "      fill: #174EA6;\n",
              "    }\n",
              "\n",
              "    [theme=dark] .colab-df-convert {\n",
              "      background-color: #3B4455;\n",
              "      fill: #D2E3FC;\n",
              "    }\n",
              "\n",
              "    [theme=dark] .colab-df-convert:hover {\n",
              "      background-color: #434B5C;\n",
              "      box-shadow: 0px 1px 3px 1px rgba(0, 0, 0, 0.15);\n",
              "      filter: drop-shadow(0px 1px 2px rgba(0, 0, 0, 0.3));\n",
              "      fill: #FFFFFF;\n",
              "    }\n",
              "  </style>\n",
              "\n",
              "      <script>\n",
              "        const buttonEl =\n",
              "          document.querySelector('#df-a7aaa1bf-2aca-431d-bf78-a399af9c9bd1 button.colab-df-convert');\n",
              "        buttonEl.style.display =\n",
              "          google.colab.kernel.accessAllowed ? 'block' : 'none';\n",
              "\n",
              "        async function convertToInteractive(key) {\n",
              "          const element = document.querySelector('#df-a7aaa1bf-2aca-431d-bf78-a399af9c9bd1');\n",
              "          const dataTable =\n",
              "            await google.colab.kernel.invokeFunction('convertToInteractive',\n",
              "                                                     [key], {});\n",
              "          if (!dataTable) return;\n",
              "\n",
              "          const docLinkHtml = 'Like what you see? Visit the ' +\n",
              "            '<a target=\"_blank\" href=https://colab.research.google.com/notebooks/data_table.ipynb>data table notebook</a>'\n",
              "            + ' to learn more about interactive tables.';\n",
              "          element.innerHTML = '';\n",
              "          dataTable['output_type'] = 'display_data';\n",
              "          await google.colab.output.renderOutput(dataTable, element);\n",
              "          const docLink = document.createElement('div');\n",
              "          docLink.innerHTML = docLinkHtml;\n",
              "          element.appendChild(docLink);\n",
              "        }\n",
              "      </script>\n",
              "    </div>\n",
              "  </div>\n",
              "  "
            ]
          },
          "metadata": {},
          "execution_count": 73
        }
      ]
    },
    {
      "cell_type": "code",
      "source": [
        "# Create submission DataFrame\n",
        "df.to_csv(\"./drive/My Drive/MLstart/mobile/data.csv\", index = False)"
      ],
      "metadata": {
        "id": "gVE0f6mJXFJd"
      },
      "id": "gVE0f6mJXFJd",
      "execution_count": 78,
      "outputs": []
    },
    {
      "cell_type": "code",
      "source": [
        "from google.colab import files"
      ],
      "metadata": {
        "id": "2MH67I7ywUmF"
      },
      "id": "2MH67I7ywUmF",
      "execution_count": 80,
      "outputs": []
    },
    {
      "cell_type": "code",
      "source": [
        "# Create submission csv file csv file\n",
        "df.to_csv(\"./drive/My Drive/MLstart/mobile/data.csv\", index = False)\n",
        "files.download('./drive/My Drive/MLstart/mobile/data.csv') "
      ],
      "metadata": {
        "colab": {
          "base_uri": "https://localhost:8080/",
          "height": 17
        },
        "id": "L44CWXUbWoo_",
        "outputId": "aed9646f-8c48-482c-d290-01f1434f8cd4"
      },
      "id": "L44CWXUbWoo_",
      "execution_count": 81,
      "outputs": [
        {
          "output_type": "display_data",
          "data": {
            "text/plain": [
              "<IPython.core.display.Javascript object>"
            ],
            "application/javascript": [
              "\n",
              "    async function download(id, filename, size) {\n",
              "      if (!google.colab.kernel.accessAllowed) {\n",
              "        return;\n",
              "      }\n",
              "      const div = document.createElement('div');\n",
              "      const label = document.createElement('label');\n",
              "      label.textContent = `Downloading \"${filename}\": `;\n",
              "      div.appendChild(label);\n",
              "      const progress = document.createElement('progress');\n",
              "      progress.max = size;\n",
              "      div.appendChild(progress);\n",
              "      document.body.appendChild(div);\n",
              "\n",
              "      const buffers = [];\n",
              "      let downloaded = 0;\n",
              "\n",
              "      const channel = await google.colab.kernel.comms.open(id);\n",
              "      // Send a message to notify the kernel that we're ready.\n",
              "      channel.send({})\n",
              "\n",
              "      for await (const message of channel.messages) {\n",
              "        // Send a message to notify the kernel that we're ready.\n",
              "        channel.send({})\n",
              "        if (message.buffers) {\n",
              "          for (const buffer of message.buffers) {\n",
              "            buffers.push(buffer);\n",
              "            downloaded += buffer.byteLength;\n",
              "            progress.value = downloaded;\n",
              "          }\n",
              "        }\n",
              "      }\n",
              "      const blob = new Blob(buffers, {type: 'application/binary'});\n",
              "      const a = document.createElement('a');\n",
              "      a.href = window.URL.createObjectURL(blob);\n",
              "      a.download = filename;\n",
              "      div.appendChild(a);\n",
              "      a.click();\n",
              "      div.remove();\n",
              "    }\n",
              "  "
            ]
          },
          "metadata": {}
        },
        {
          "output_type": "display_data",
          "data": {
            "text/plain": [
              "<IPython.core.display.Javascript object>"
            ],
            "application/javascript": [
              "download(\"download_be611a88-d620-42e9-bc68-2912d1e396ca\", \"data.csv\", 23004658)"
            ]
          },
          "metadata": {}
        }
      ]
    },
    {
      "cell_type": "markdown",
      "id": "56d38f0f",
      "metadata": {
        "papermill": {
          "duration": 0.053766,
          "end_time": "2021-11-18T07:24:05.137524",
          "exception": false,
          "start_time": "2021-11-18T07:24:05.083758",
          "status": "completed"
        },
        "tags": [],
        "id": "56d38f0f"
      },
      "source": [
        "## Conclusion\n",
        "\n",
        "What can we do with the details of this analysis?\n",
        "\n",
        "1. We can decide to drop products that are not performing well in volume & revenue.\n",
        "2. If the company is struggling with runnig cost, store in Portland, ME can be closed.\n",
        "3. Peak time for orders can help in two ways; for focused advertising & also in terms of staff allocation/rotation.\n",
        "4. Products bought together can be offered as one package with discount, to drive sales.\n",
        "5. The Mac Book Pro was the most popular product.\n",
        "6. While the iPhone & its charger were the pair most frequently purchased.\n",
        "7. The outlet in San Francisco, CA was the best performing.\n",
        "\n",
        "\n",
        "Thank you for your time. Your comments, and constructive criticisms (if any) are welcome. "
      ]
    }
  ],
  "metadata": {
    "kernelspec": {
      "display_name": "Python 3",
      "language": "python",
      "name": "python3"
    },
    "language_info": {
      "codemirror_mode": {
        "name": "ipython",
        "version": 3
      },
      "file_extension": ".py",
      "mimetype": "text/x-python",
      "name": "python",
      "nbconvert_exporter": "python",
      "pygments_lexer": "ipython3",
      "version": "3.7.10"
    },
    "papermill": {
      "default_parameters": {},
      "duration": 45.356116,
      "end_time": "2021-11-18T07:24:05.901178",
      "environment_variables": {},
      "exception": null,
      "input_path": "__notebook__.ipynb",
      "output_path": "__notebook__.ipynb",
      "parameters": {},
      "start_time": "2021-11-18T07:23:20.545062",
      "version": "2.3.3"
    },
    "colab": {
      "name": "mobile-gadgets-accessories-store-data-analysis.ipynb",
      "provenance": [],
      "collapsed_sections": []
    }
  },
  "nbformat": 4,
  "nbformat_minor": 5
}